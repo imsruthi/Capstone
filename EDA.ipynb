{
 "cells": [
  {
   "cell_type": "code",
   "execution_count": 1,
   "id": "5054e217-f479-40b4-be77-56b4a5c5d78a",
   "metadata": {},
   "outputs": [],
   "source": [
    "import pandas as pd\n",
    "import numpy as np\n",
    "import matplotlib.pyplot as plt\n",
    "import seaborn as sns"
   ]
  },
  {
   "cell_type": "code",
   "execution_count": 5,
   "id": "a5a4e5ab-e2cf-4c1f-9930-c9576fb30271",
   "metadata": {},
   "outputs": [],
   "source": [
    "df = pd.read_csv('gurgaon_properties_cleaned_v2.csv')"
   ]
  },
  {
   "cell_type": "code",
   "execution_count": 7,
   "id": "05805ed8-2bde-4aa5-a544-813a0f13cb98",
   "metadata": {},
   "outputs": [
    {
     "data": {
      "text/html": [
       "<div>\n",
       "<style scoped>\n",
       "    .dataframe tbody tr th:only-of-type {\n",
       "        vertical-align: middle;\n",
       "    }\n",
       "\n",
       "    .dataframe tbody tr th {\n",
       "        vertical-align: top;\n",
       "    }\n",
       "\n",
       "    .dataframe thead th {\n",
       "        text-align: right;\n",
       "    }\n",
       "</style>\n",
       "<table border=\"1\" class=\"dataframe\">\n",
       "  <thead>\n",
       "    <tr style=\"text-align: right;\">\n",
       "      <th></th>\n",
       "      <th>property_type</th>\n",
       "      <th>society</th>\n",
       "      <th>sector</th>\n",
       "      <th>price</th>\n",
       "      <th>price_per_sqft</th>\n",
       "      <th>area</th>\n",
       "      <th>areaWithType</th>\n",
       "      <th>bedRoom</th>\n",
       "      <th>bathroom</th>\n",
       "      <th>balcony</th>\n",
       "      <th>...</th>\n",
       "      <th>Modular Kitchen</th>\n",
       "      <th>Fridge</th>\n",
       "      <th>Geyser</th>\n",
       "      <th>Microwave</th>\n",
       "      <th>Exhaust Fan</th>\n",
       "      <th>Stove</th>\n",
       "      <th>Light</th>\n",
       "      <th>Curtains</th>\n",
       "      <th>Fan</th>\n",
       "      <th>luxury_score</th>\n",
       "    </tr>\n",
       "  </thead>\n",
       "  <tbody>\n",
       "    <tr>\n",
       "      <th>0</th>\n",
       "      <td>flat</td>\n",
       "      <td>signature global park</td>\n",
       "      <td>sohna road</td>\n",
       "      <td>0.55</td>\n",
       "      <td>7355.0</td>\n",
       "      <td>748.0</td>\n",
       "      <td>Carpet area: 745 (69.21 sq.m.)</td>\n",
       "      <td>2.0</td>\n",
       "      <td>2.0</td>\n",
       "      <td>3</td>\n",
       "      <td>...</td>\n",
       "      <td>0</td>\n",
       "      <td>0</td>\n",
       "      <td>0</td>\n",
       "      <td>1</td>\n",
       "      <td>0</td>\n",
       "      <td>0</td>\n",
       "      <td>1</td>\n",
       "      <td>1</td>\n",
       "      <td>1</td>\n",
       "      <td>80.0</td>\n",
       "    </tr>\n",
       "    <tr>\n",
       "      <th>1</th>\n",
       "      <td>flat</td>\n",
       "      <td>emaar mgf palm hills</td>\n",
       "      <td>sector 77</td>\n",
       "      <td>1.50</td>\n",
       "      <td>12744.0</td>\n",
       "      <td>1177.0</td>\n",
       "      <td>Super Built up area 1450(134.71 sq.m.)Carpet a...</td>\n",
       "      <td>3.0</td>\n",
       "      <td>3.0</td>\n",
       "      <td>3</td>\n",
       "      <td>...</td>\n",
       "      <td>1</td>\n",
       "      <td>0</td>\n",
       "      <td>2</td>\n",
       "      <td>0</td>\n",
       "      <td>0</td>\n",
       "      <td>1</td>\n",
       "      <td>33</td>\n",
       "      <td>0</td>\n",
       "      <td>5</td>\n",
       "      <td>97.0</td>\n",
       "    </tr>\n",
       "    <tr>\n",
       "      <th>2</th>\n",
       "      <td>house</td>\n",
       "      <td>vatika india next</td>\n",
       "      <td>sector 83</td>\n",
       "      <td>1.70</td>\n",
       "      <td>7870.0</td>\n",
       "      <td>2160.0</td>\n",
       "      <td>Plot area 240(200.67 sq.m.)</td>\n",
       "      <td>3.0</td>\n",
       "      <td>3.0</td>\n",
       "      <td>3+</td>\n",
       "      <td>...</td>\n",
       "      <td>0</td>\n",
       "      <td>0</td>\n",
       "      <td>3</td>\n",
       "      <td>0</td>\n",
       "      <td>0</td>\n",
       "      <td>0</td>\n",
       "      <td>4</td>\n",
       "      <td>0</td>\n",
       "      <td>5</td>\n",
       "      <td>0.0</td>\n",
       "    </tr>\n",
       "    <tr>\n",
       "      <th>3</th>\n",
       "      <td>flat</td>\n",
       "      <td>la vida by tata housing</td>\n",
       "      <td>sector 113</td>\n",
       "      <td>1.45</td>\n",
       "      <td>11363.0</td>\n",
       "      <td>1276.0</td>\n",
       "      <td>Super Built up area 1276(118.54 sq.m.)Carpet a...</td>\n",
       "      <td>2.0</td>\n",
       "      <td>2.0</td>\n",
       "      <td>2</td>\n",
       "      <td>...</td>\n",
       "      <td>1</td>\n",
       "      <td>0</td>\n",
       "      <td>0</td>\n",
       "      <td>0</td>\n",
       "      <td>0</td>\n",
       "      <td>1</td>\n",
       "      <td>0</td>\n",
       "      <td>0</td>\n",
       "      <td>0</td>\n",
       "      <td>80.0</td>\n",
       "    </tr>\n",
       "    <tr>\n",
       "      <th>4</th>\n",
       "      <td>flat</td>\n",
       "      <td>dlf new town heights</td>\n",
       "      <td>sector 90</td>\n",
       "      <td>1.90</td>\n",
       "      <td>5683.0</td>\n",
       "      <td>3343.0</td>\n",
       "      <td>Super Built up area 2727(253.35 sq.m.)</td>\n",
       "      <td>4.0</td>\n",
       "      <td>4.0</td>\n",
       "      <td>3+</td>\n",
       "      <td>...</td>\n",
       "      <td>0</td>\n",
       "      <td>0</td>\n",
       "      <td>0</td>\n",
       "      <td>0</td>\n",
       "      <td>0</td>\n",
       "      <td>0</td>\n",
       "      <td>0</td>\n",
       "      <td>0</td>\n",
       "      <td>0</td>\n",
       "      <td>88.0</td>\n",
       "    </tr>\n",
       "  </tbody>\n",
       "</table>\n",
       "<p>5 rows × 40 columns</p>\n",
       "</div>"
      ],
      "text/plain": [
       "  property_type                  society      sector  price  price_per_sqft  \\\n",
       "0          flat    signature global park  sohna road   0.55          7355.0   \n",
       "1          flat     emaar mgf palm hills   sector 77   1.50         12744.0   \n",
       "2         house        vatika india next   sector 83   1.70          7870.0   \n",
       "3          flat  la vida by tata housing  sector 113   1.45         11363.0   \n",
       "4          flat     dlf new town heights   sector 90   1.90          5683.0   \n",
       "\n",
       "     area                                       areaWithType  bedRoom  \\\n",
       "0   748.0                     Carpet area: 745 (69.21 sq.m.)      2.0   \n",
       "1  1177.0  Super Built up area 1450(134.71 sq.m.)Carpet a...      3.0   \n",
       "2  2160.0                        Plot area 240(200.67 sq.m.)      3.0   \n",
       "3  1276.0  Super Built up area 1276(118.54 sq.m.)Carpet a...      2.0   \n",
       "4  3343.0             Super Built up area 2727(253.35 sq.m.)      4.0   \n",
       "\n",
       "   bathroom balcony  ...  Modular Kitchen Fridge Geyser  Microwave  \\\n",
       "0       2.0       3  ...                0      0      0          1   \n",
       "1       3.0       3  ...                1      0      2          0   \n",
       "2       3.0      3+  ...                0      0      3          0   \n",
       "3       2.0       2  ...                1      0      0          0   \n",
       "4       4.0      3+  ...                0      0      0          0   \n",
       "\n",
       "   Exhaust Fan  Stove  Light  Curtains  Fan  luxury_score  \n",
       "0            0      0      1         1    1          80.0  \n",
       "1            0      1     33         0    5          97.0  \n",
       "2            0      0      4         0    5           0.0  \n",
       "3            0      1      0         0    0          80.0  \n",
       "4            0      0      0         0    0          88.0  \n",
       "\n",
       "[5 rows x 40 columns]"
      ]
     },
     "execution_count": 7,
     "metadata": {},
     "output_type": "execute_result"
    }
   ],
   "source": [
    "df.head()"
   ]
  },
  {
   "cell_type": "code",
   "execution_count": 9,
   "id": "dff6d242-febf-4542-9cc1-c60800704bdb",
   "metadata": {},
   "outputs": [
    {
     "data": {
      "text/plain": [
       "(3683, 40)"
      ]
     },
     "execution_count": 9,
     "metadata": {},
     "output_type": "execute_result"
    }
   ],
   "source": [
    "df.shape"
   ]
  },
  {
   "cell_type": "code",
   "execution_count": 13,
   "id": "fec06968-3816-4352-9c8c-3fe28e65d052",
   "metadata": {},
   "outputs": [
    {
     "name": "stdout",
     "output_type": "stream",
     "text": [
      "<class 'pandas.core.frame.DataFrame'>\n",
      "RangeIndex: 3683 entries, 0 to 3682\n",
      "Data columns (total 40 columns):\n",
      " #   Column               Non-Null Count  Dtype  \n",
      "---  ------               --------------  -----  \n",
      " 0   property_type        3681 non-null   object \n",
      " 1   society              3680 non-null   object \n",
      " 2   sector               3683 non-null   object \n",
      " 3   price                3664 non-null   float64\n",
      " 4   price_per_sqft       3664 non-null   float64\n",
      " 5   area                 3664 non-null   float64\n",
      " 6   areaWithType         3681 non-null   object \n",
      " 7   bedRoom              3681 non-null   float64\n",
      " 8   bathroom             3681 non-null   float64\n",
      " 9   balcony              3681 non-null   object \n",
      " 10  floorNum             3662 non-null   float64\n",
      " 11  facing               2633 non-null   object \n",
      " 12  agePossession        3683 non-null   object \n",
      " 13  super_built_up_area  1876 non-null   float64\n",
      " 14  built_up_area        1260 non-null   float64\n",
      " 15  carpet_area          952 non-null    float64\n",
      " 16  study room           3683 non-null   int64  \n",
      " 17  servant room         3683 non-null   int64  \n",
      " 18  pooja room           3683 non-null   int64  \n",
      " 19  store room           3683 non-null   int64  \n",
      " 20  others               3683 non-null   int64  \n",
      " 21  Sofa                 3683 non-null   int64  \n",
      " 22  TV                   3683 non-null   int64  \n",
      " 23  Dining Table         3683 non-null   int64  \n",
      " 24  AC                   3683 non-null   int64  \n",
      " 25  Chimney              3683 non-null   int64  \n",
      " 26  Bed                  3683 non-null   int64  \n",
      " 27  Washing Machine      3683 non-null   int64  \n",
      " 28  Water Purifier       3683 non-null   int64  \n",
      " 29  Wardrobe             3683 non-null   int64  \n",
      " 30  Modular Kitchen      3683 non-null   int64  \n",
      " 31  Fridge               3683 non-null   int64  \n",
      " 32  Geyser               3683 non-null   int64  \n",
      " 33  Microwave            3683 non-null   int64  \n",
      " 34  Exhaust Fan          3683 non-null   int64  \n",
      " 35  Stove                3683 non-null   int64  \n",
      " 36  Light                3683 non-null   int64  \n",
      " 37  Curtains             3683 non-null   int64  \n",
      " 38  Fan                  3683 non-null   int64  \n",
      " 39  luxury_score         3567 non-null   float64\n",
      "dtypes: float64(10), int64(23), object(7)\n",
      "memory usage: 1.1+ MB\n"
     ]
    }
   ],
   "source": [
    "df.info()"
   ]
  },
  {
   "cell_type": "code",
   "execution_count": 17,
   "id": "632ac730-38eb-4d2f-9bc9-d413c2fa9bad",
   "metadata": {},
   "outputs": [
    {
     "data": {
      "text/plain": [
       "1"
      ]
     },
     "execution_count": 17,
     "metadata": {},
     "output_type": "execute_result"
    }
   ],
   "source": [
    "df.duplicated().sum()"
   ]
  },
  {
   "cell_type": "code",
   "execution_count": 19,
   "id": "d28d32c4-69e4-44d6-b4c3-3a5d2503b763",
   "metadata": {},
   "outputs": [],
   "source": [
    "df.drop_duplicates(inplace=True)"
   ]
  },
  {
   "cell_type": "code",
   "execution_count": 29,
   "id": "e4c10ebc-ad80-43b5-89ad-4bd4dad6ae29",
   "metadata": {},
   "outputs": [
    {
     "data": {
      "text/html": [
       "<div>\n",
       "<style scoped>\n",
       "    .dataframe tbody tr th:only-of-type {\n",
       "        vertical-align: middle;\n",
       "    }\n",
       "\n",
       "    .dataframe tbody tr th {\n",
       "        vertical-align: top;\n",
       "    }\n",
       "\n",
       "    .dataframe thead th {\n",
       "        text-align: right;\n",
       "    }\n",
       "</style>\n",
       "<table border=\"1\" class=\"dataframe\">\n",
       "  <thead>\n",
       "    <tr style=\"text-align: right;\">\n",
       "      <th></th>\n",
       "      <th>property_type</th>\n",
       "      <th>society</th>\n",
       "      <th>sector</th>\n",
       "      <th>price</th>\n",
       "      <th>price_per_sqft</th>\n",
       "      <th>area</th>\n",
       "      <th>areaWithType</th>\n",
       "      <th>bedRoom</th>\n",
       "      <th>bathroom</th>\n",
       "      <th>balcony</th>\n",
       "      <th>...</th>\n",
       "      <th>Modular Kitchen</th>\n",
       "      <th>Fridge</th>\n",
       "      <th>Geyser</th>\n",
       "      <th>Microwave</th>\n",
       "      <th>Exhaust Fan</th>\n",
       "      <th>Stove</th>\n",
       "      <th>Light</th>\n",
       "      <th>Curtains</th>\n",
       "      <th>Fan</th>\n",
       "      <th>luxury_score</th>\n",
       "    </tr>\n",
       "  </thead>\n",
       "  <tbody>\n",
       "    <tr>\n",
       "      <th>0</th>\n",
       "      <td>flat</td>\n",
       "      <td>signature global park</td>\n",
       "      <td>sohna road</td>\n",
       "      <td>0.55</td>\n",
       "      <td>7355.0</td>\n",
       "      <td>748.0</td>\n",
       "      <td>Carpet area: 745 (69.21 sq.m.)</td>\n",
       "      <td>2.0</td>\n",
       "      <td>2.0</td>\n",
       "      <td>3</td>\n",
       "      <td>...</td>\n",
       "      <td>0</td>\n",
       "      <td>0</td>\n",
       "      <td>0</td>\n",
       "      <td>1</td>\n",
       "      <td>0</td>\n",
       "      <td>0</td>\n",
       "      <td>1</td>\n",
       "      <td>1</td>\n",
       "      <td>1</td>\n",
       "      <td>80.0</td>\n",
       "    </tr>\n",
       "    <tr>\n",
       "      <th>1</th>\n",
       "      <td>flat</td>\n",
       "      <td>emaar mgf palm hills</td>\n",
       "      <td>sector 77</td>\n",
       "      <td>1.50</td>\n",
       "      <td>12744.0</td>\n",
       "      <td>1177.0</td>\n",
       "      <td>Super Built up area 1450(134.71 sq.m.)Carpet a...</td>\n",
       "      <td>3.0</td>\n",
       "      <td>3.0</td>\n",
       "      <td>3</td>\n",
       "      <td>...</td>\n",
       "      <td>1</td>\n",
       "      <td>0</td>\n",
       "      <td>2</td>\n",
       "      <td>0</td>\n",
       "      <td>0</td>\n",
       "      <td>1</td>\n",
       "      <td>33</td>\n",
       "      <td>0</td>\n",
       "      <td>5</td>\n",
       "      <td>97.0</td>\n",
       "    </tr>\n",
       "    <tr>\n",
       "      <th>2</th>\n",
       "      <td>house</td>\n",
       "      <td>vatika india next</td>\n",
       "      <td>sector 83</td>\n",
       "      <td>1.70</td>\n",
       "      <td>7870.0</td>\n",
       "      <td>2160.0</td>\n",
       "      <td>Plot area 240(200.67 sq.m.)</td>\n",
       "      <td>3.0</td>\n",
       "      <td>3.0</td>\n",
       "      <td>3+</td>\n",
       "      <td>...</td>\n",
       "      <td>0</td>\n",
       "      <td>0</td>\n",
       "      <td>3</td>\n",
       "      <td>0</td>\n",
       "      <td>0</td>\n",
       "      <td>0</td>\n",
       "      <td>4</td>\n",
       "      <td>0</td>\n",
       "      <td>5</td>\n",
       "      <td>0.0</td>\n",
       "    </tr>\n",
       "  </tbody>\n",
       "</table>\n",
       "<p>3 rows × 40 columns</p>\n",
       "</div>"
      ],
      "text/plain": [
       "  property_type                society      sector  price  price_per_sqft  \\\n",
       "0          flat  signature global park  sohna road   0.55          7355.0   \n",
       "1          flat   emaar mgf palm hills   sector 77   1.50         12744.0   \n",
       "2         house      vatika india next   sector 83   1.70          7870.0   \n",
       "\n",
       "     area                                       areaWithType  bedRoom  \\\n",
       "0   748.0                     Carpet area: 745 (69.21 sq.m.)      2.0   \n",
       "1  1177.0  Super Built up area 1450(134.71 sq.m.)Carpet a...      3.0   \n",
       "2  2160.0                        Plot area 240(200.67 sq.m.)      3.0   \n",
       "\n",
       "   bathroom balcony  ...  Modular Kitchen Fridge Geyser  Microwave  \\\n",
       "0       2.0       3  ...                0      0      0          1   \n",
       "1       3.0       3  ...                1      0      2          0   \n",
       "2       3.0      3+  ...                0      0      3          0   \n",
       "\n",
       "   Exhaust Fan  Stove  Light  Curtains  Fan  luxury_score  \n",
       "0            0      0      1         1    1          80.0  \n",
       "1            0      1     33         0    5          97.0  \n",
       "2            0      0      4         0    5           0.0  \n",
       "\n",
       "[3 rows x 40 columns]"
      ]
     },
     "execution_count": 29,
     "metadata": {},
     "output_type": "execute_result"
    }
   ],
   "source": [
    "df.head(3)"
   ]
  },
  {
   "cell_type": "markdown",
   "id": "0d45517b-2b5c-49c2-875c-f01be5599af1",
   "metadata": {},
   "source": [
    "### 1.Property Type"
   ]
  },
  {
   "cell_type": "code",
   "execution_count": 35,
   "id": "57c85b2a-d682-4d9a-9507-06cda5cbab1b",
   "metadata": {},
   "outputs": [
    {
     "data": {
      "text/plain": [
       "<Axes: xlabel='property_type'>"
      ]
     },
     "execution_count": 35,
     "metadata": {},
     "output_type": "execute_result"
    },
    {
     "data": {
      "image/png": "[encoded data removed]",
      "text/plain": [
       "<Figure size 640x480 with 1 Axes>"
      ]
     },
     "metadata": {},
     "output_type": "display_data"
    }
   ],
   "source": [
    "df['property_type'].value_counts().plot(kind='bar')"
   ]
  },
  {
   "cell_type": "markdown",
   "id": "cdd4007f-85d3-461c-9650-f2c5bdd8534e",
   "metadata": {},
   "source": [
    "### 2.Society"
   ]
  },
  {
   "cell_type": "code",
   "execution_count": 39,
   "id": "8d48ce37-c8ff-459c-adef-884fb1a90448",
   "metadata": {},
   "outputs": [
    {
     "data": {
      "text/plain": [
       "society\n",
       "independent                             486\n",
       "tulip violet                             75\n",
       "ss the leaf                              73\n",
       "shapoorji pallonji joyville gurugram     42\n",
       "dlf new town heights                     42\n",
       "                                       ... \n",
       "elevate                                   1\n",
       "apartment                                 1\n",
       "smart world one dxp                       1\n",
       "rajendra park gurgaon                     1\n",
       "city shri ram apartments 1                1\n",
       "Name: count, Length: 676, dtype: int64"
      ]
     },
     "execution_count": 39,
     "metadata": {},
     "output_type": "execute_result"
    }
   ],
   "source": [
    "df['society'].value_counts()"
   ]
  },
  {
   "cell_type": "code",
   "execution_count": 63,
   "id": "37029714-8a6c-40b8-8d47-8d868600848a",
   "metadata": {},
   "outputs": [
    {
     "data": {
      "text/plain": [
       "society\n",
       "tulip violet                            0.023489\n",
       "ss the leaf                             0.046351\n",
       "shapoorji pallonji joyville gurugram    0.059505\n",
       "dlf new town heights                    0.072659\n",
       "signature global park                   0.083307\n",
       "                                          ...   \n",
       "umang monsoon breeze                    0.490135\n",
       "umang winter hills                      0.494206\n",
       "ramsons kshitij                         0.498277\n",
       "ansal heights 86                        0.502349\n",
       "mvn athens                              0.506107\n",
       "Name: proportion, Length: 75, dtype: float64"
      ]
     },
     "execution_count": 63,
     "metadata": {},
     "output_type": "execute_result"
    }
   ],
   "source": [
    "df[df['society']!='independent']['society'].value_counts(normalize=True).cumsum().head(75)"
   ]
  },
  {
   "cell_type": "code",
   "execution_count": 85,
   "id": "bdc7c9ab-84fc-4946-8d8a-a3853084ce00",
   "metadata": {},
   "outputs": [
    {
     "data": {
      "text/plain": [
       "{'Very High Flats(>100)': 1,\n",
       " 'High Flats(50-100)': 2,\n",
       " 'Average Flats(10-50)': 92,\n",
       " 'Low (2-9)': 273,\n",
       " 'Very Low (1)': 308}"
      ]
     },
     "execution_count": 85,
     "metadata": {},
     "output_type": "execute_result"
    }
   ],
   "source": [
    "society_counts = df['society'].value_counts()\n",
    "\n",
    "#frequency Distribution\n",
    "frequency_bins= {\n",
    "   \"Very High Flats(>100)\":(society_counts>100).sum(),\n",
    "    \"High Flats(50-100)\":((society_counts>=50)&(society_counts<=100)).sum(),\n",
    "   \"Average Flats(10-50)\":((society_counts<=50)&(society_counts>=10)).sum(),\n",
    "    \"Low (2-9)\": ((society_counts > 1) & (society_counts < 10)).sum(),\n",
    "    \"Very Low (1)\": (society_counts == 1).sum()\n",
    "}\n",
    "frequency_bins"
   ]
  },
  {
   "cell_type": "code",
   "execution_count": 119,
   "id": "a253c98c-5c04-418c-888a-4149c9de6fd0",
   "metadata": {},
   "outputs": [
    {
     "data": {
      "text/plain": [
       "<Axes: xlabel='society'>"
      ]
     },
     "execution_count": 119,
     "metadata": {},
     "output_type": "execute_result"
    },
    {
     "data": {
      "image/png": "[encoded data removed]",
      "text/plain": [
       "<Figure size 800x500 with 1 Axes>"
      ]
     },
     "metadata": {},
     "output_type": "display_data"
    }
   ],
   "source": [
    "df[df['society']!='independent']['society'].value_counts().head(10).plot(kind='bar',figsize=(8,5))"
   ]
  },
  {
   "cell_type": "code",
   "execution_count": 127,
   "id": "7f0a372a-1f4d-42f4-b924-ec58e2d9548d",
   "metadata": {},
   "outputs": [
    {
     "data": {
      "text/plain": [
       "3"
      ]
     },
     "execution_count": 127,
     "metadata": {},
     "output_type": "execute_result"
    }
   ],
   "source": [
    "df['society'].isnull().sum()"
   ]
  },
  {
   "cell_type": "code",
   "execution_count": 129,
   "id": "d9c6eca3-2ac5-4ef0-8121-42089bdef769",
   "metadata": {},
   "outputs": [
    {
     "data": {
      "text/html": [
       "<div>\n",
       "<style scoped>\n",
       "    .dataframe tbody tr th:only-of-type {\n",
       "        vertical-align: middle;\n",
       "    }\n",
       "\n",
       "    .dataframe tbody tr th {\n",
       "        vertical-align: top;\n",
       "    }\n",
       "\n",
       "    .dataframe thead th {\n",
       "        text-align: right;\n",
       "    }\n",
       "</style>\n",
       "<table border=\"1\" class=\"dataframe\">\n",
       "  <thead>\n",
       "    <tr style=\"text-align: right;\">\n",
       "      <th></th>\n",
       "      <th>property_type</th>\n",
       "      <th>society</th>\n",
       "      <th>sector</th>\n",
       "      <th>price</th>\n",
       "      <th>price_per_sqft</th>\n",
       "      <th>area</th>\n",
       "      <th>areaWithType</th>\n",
       "      <th>bedRoom</th>\n",
       "      <th>bathroom</th>\n",
       "      <th>balcony</th>\n",
       "      <th>...</th>\n",
       "      <th>Modular Kitchen</th>\n",
       "      <th>Fridge</th>\n",
       "      <th>Geyser</th>\n",
       "      <th>Microwave</th>\n",
       "      <th>Exhaust Fan</th>\n",
       "      <th>Stove</th>\n",
       "      <th>Light</th>\n",
       "      <th>Curtains</th>\n",
       "      <th>Fan</th>\n",
       "      <th>luxury_score</th>\n",
       "    </tr>\n",
       "  </thead>\n",
       "  <tbody>\n",
       "    <tr>\n",
       "      <th>1758</th>\n",
       "      <td>flat</td>\n",
       "      <td>NaN</td>\n",
       "      <td>sector 78</td>\n",
       "      <td>0.6</td>\n",
       "      <td>3692.0</td>\n",
       "      <td>1625.0</td>\n",
       "      <td>Built Up area: 1625 (150.97 sq.m.)</td>\n",
       "      <td>2.0</td>\n",
       "      <td>2.0</td>\n",
       "      <td>0</td>\n",
       "      <td>...</td>\n",
       "      <td>0</td>\n",
       "      <td>0</td>\n",
       "      <td>0</td>\n",
       "      <td>0</td>\n",
       "      <td>0</td>\n",
       "      <td>0</td>\n",
       "      <td>0</td>\n",
       "      <td>0</td>\n",
       "      <td>0</td>\n",
       "      <td>42.0</td>\n",
       "    </tr>\n",
       "    <tr>\n",
       "      <th>3681</th>\n",
       "      <td>NaN</td>\n",
       "      <td>NaN</td>\n",
       "      <td>sector 92</td>\n",
       "      <td>NaN</td>\n",
       "      <td>NaN</td>\n",
       "      <td>NaN</td>\n",
       "      <td>NaN</td>\n",
       "      <td>NaN</td>\n",
       "      <td>NaN</td>\n",
       "      <td>NaN</td>\n",
       "      <td>...</td>\n",
       "      <td>0</td>\n",
       "      <td>0</td>\n",
       "      <td>0</td>\n",
       "      <td>0</td>\n",
       "      <td>0</td>\n",
       "      <td>0</td>\n",
       "      <td>0</td>\n",
       "      <td>0</td>\n",
       "      <td>0</td>\n",
       "      <td>NaN</td>\n",
       "    </tr>\n",
       "    <tr>\n",
       "      <th>3682</th>\n",
       "      <td>NaN</td>\n",
       "      <td>NaN</td>\n",
       "      <td>sector 76</td>\n",
       "      <td>NaN</td>\n",
       "      <td>NaN</td>\n",
       "      <td>NaN</td>\n",
       "      <td>NaN</td>\n",
       "      <td>NaN</td>\n",
       "      <td>NaN</td>\n",
       "      <td>NaN</td>\n",
       "      <td>...</td>\n",
       "      <td>0</td>\n",
       "      <td>0</td>\n",
       "      <td>0</td>\n",
       "      <td>0</td>\n",
       "      <td>0</td>\n",
       "      <td>0</td>\n",
       "      <td>0</td>\n",
       "      <td>0</td>\n",
       "      <td>0</td>\n",
       "      <td>NaN</td>\n",
       "    </tr>\n",
       "  </tbody>\n",
       "</table>\n",
       "<p>3 rows × 40 columns</p>\n",
       "</div>"
      ],
      "text/plain": [
       "     property_type society     sector  price  price_per_sqft    area  \\\n",
       "1758          flat     NaN  sector 78    0.6          3692.0  1625.0   \n",
       "3681           NaN     NaN  sector 92    NaN             NaN     NaN   \n",
       "3682           NaN     NaN  sector 76    NaN             NaN     NaN   \n",
       "\n",
       "                            areaWithType  bedRoom  bathroom balcony  ...  \\\n",
       "1758  Built Up area: 1625 (150.97 sq.m.)      2.0       2.0       0  ...   \n",
       "3681                                 NaN      NaN       NaN     NaN  ...   \n",
       "3682                                 NaN      NaN       NaN     NaN  ...   \n",
       "\n",
       "      Modular Kitchen Fridge Geyser  Microwave  Exhaust Fan  Stove  Light  \\\n",
       "1758                0      0      0          0            0      0      0   \n",
       "3681                0      0      0          0            0      0      0   \n",
       "3682                0      0      0          0            0      0      0   \n",
       "\n",
       "      Curtains  Fan  luxury_score  \n",
       "1758         0    0          42.0  \n",
       "3681         0    0           NaN  \n",
       "3682         0    0           NaN  \n",
       "\n",
       "[3 rows x 40 columns]"
      ]
     },
     "execution_count": 129,
     "metadata": {},
     "output_type": "execute_result"
    }
   ],
   "source": [
    "df[df['society'].isnull()]"
   ]
  },
  {
   "cell_type": "markdown",
   "id": "a745bef4-e76d-47e6-9f92-1bfbf879eebd",
   "metadata": {},
   "source": [
    "## Observations\n",
    "- Around 13% properties comes under independent tag.\n",
    "- There are 675 societies.\n",
    "- The top 75 societies have 50 percent of the preperties and the rest 50 percent of the properties come under the remaining 600 societies\n",
    "- Very High (>100): Only 1 society has more than 100 listings.\n",
    "- High (50-100): 2 societies have between 50 to 100 listings.\n",
    "- Average (10-49): 92 societies fall in this range with 10 to 49 listings each.\n",
    "- Low (2-9): 273 societies have between 2 to 9 listings.\n",
    "- Very Low (1): A significant number, 308 societies, have only 1 listing.\n",
    "- 3 missing value, didn't drop them."
   ]
  },
  {
   "cell_type": "markdown",
   "id": "6769ebde-9e6e-4633-bc44-760af0d31c37",
   "metadata": {},
   "source": [
    "### 2. Sector"
   ]
  },
  {
   "cell_type": "code",
   "execution_count": 139,
   "id": "369fcde7-96b8-4fef-a769-5a299c3b44ee",
   "metadata": {},
   "outputs": [
    {
     "data": {
      "text/plain": [
       "sector\n",
       "sohna road    153\n",
       "sector 85     108\n",
       "sector 102    106\n",
       "sector 92     100\n",
       "sector 69      93\n",
       "             ... \n",
       "sector 27       3\n",
       "sector 73       3\n",
       "sector 17b      3\n",
       "sector 17a      3\n",
       "sector 37       1\n",
       "Name: count, Length: 115, dtype: int64"
      ]
     },
     "execution_count": 139,
     "metadata": {},
     "output_type": "execute_result"
    }
   ],
   "source": [
    "df['sector'].value_counts()"
   ]
  },
  {
   "cell_type": "code",
   "execution_count": 143,
   "id": "6faa37b0-23fe-42e7-af0d-af5b9a84379a",
   "metadata": {},
   "outputs": [
    {
     "data": {
      "text/plain": [
       "<Axes: xlabel='sector'>"
      ]
     },
     "execution_count": 143,
     "metadata": {},
     "output_type": "execute_result"
    },
    {
     "data": {
      "image/png": "[encoded data removed]",
      "text/plain": [
       "<Figure size 640x480 with 1 Axes>"
      ]
     },
     "metadata": {},
     "output_type": "display_data"
    }
   ],
   "source": [
    "df['sector'].value_counts().head(10).plot(kind='bar')"
   ]
  },
  {
   "cell_type": "code",
   "execution_count": 155,
   "id": "74544b85-7442-414a-b086-cc7b756a9a20",
   "metadata": {},
   "outputs": [
    {
     "data": {
      "text/plain": [
       "{'Very High Sectors(>100)': 3,\n",
       " 'High Sectors(50-100)': 25,\n",
       " 'Average (10-49)': 63,\n",
       " 'Low (2-9)': 23,\n",
       " 'Very Low (1)': 1}"
      ]
     },
     "execution_count": 155,
     "metadata": {},
     "output_type": "execute_result"
    }
   ],
   "source": [
    "sector_counts = df['sector'].value_counts()\n",
    "\n",
    "#frequency distribution\n",
    "sector_frequency = {\n",
    "    \"Very High Sectors(>100)\":(sector_counts>100).sum(),\n",
    "    \"High Sectors(50-100)\":((sector_counts>=50)&(sector_counts<=100)).sum(),\n",
    "    \"Average (10-49)\": ((sector_counts >= 10) & (sector_counts < 50)).sum(),\n",
    "    \"Low (2-9)\": ((sector_counts > 1) & (sector_counts < 10)).sum(),\n",
    "    \"Very Low (1)\": (sector_counts == 1).sum()\n",
    "}\n",
    "\n",
    "sector_frequency"
   ]
  },
  {
   "cell_type": "markdown",
   "id": "2b976080-2e0e-4ea6-b1fa-90543786a0db",
   "metadata": {},
   "source": [
    "### 3. Price"
   ]
  },
  {
   "cell_type": "code",
   "execution_count": 162,
   "id": "d21c3bde-36d8-4229-ab00-104ba770f05a",
   "metadata": {},
   "outputs": [
    {
     "data": {
      "text/plain": [
       "count    3663.000000\n",
       "mean        2.533787\n",
       "std         2.979286\n",
       "min         0.070000\n",
       "25%         0.950000\n",
       "50%         1.530000\n",
       "75%         2.750000\n",
       "max        31.500000\n",
       "Name: price, dtype: float64"
      ]
     },
     "execution_count": 162,
     "metadata": {},
     "output_type": "execute_result"
    }
   ],
   "source": [
    "df['price'].describe()"
   ]
  },
  {
   "cell_type": "code",
   "execution_count": 164,
   "id": "d26f2102-0aed-4612-9870-7a4dcca574f3",
   "metadata": {},
   "outputs": [
    {
     "data": {
      "text/plain": [
       "19"
      ]
     },
     "execution_count": 164,
     "metadata": {},
     "output_type": "execute_result"
    }
   ],
   "source": [
    "df['price'].isnull().sum()"
   ]
  },
  {
   "cell_type": "code",
   "execution_count": 168,
   "id": "0fe9dec5-df4c-4b73-959b-fc778f3357d2",
   "metadata": {},
   "outputs": [
    {
     "data": {
      "text/plain": [
       "<Axes: xlabel='price', ylabel='Count'>"
      ]
     },
     "execution_count": 168,
     "metadata": {},
     "output_type": "execute_result"
    },
    {
     "data": {
      "image/png": "[encoded data removed]",
      "text/plain": [
       "<Figure size 640x480 with 1 Axes>"
      ]
     },
     "metadata": {},
     "output_type": "display_data"
    }
   ],
   "source": [
    "sns.histplot(df['price'],kde=True,bins=50)"
   ]
  },
  {
   "cell_type": "code",
   "execution_count": 174,
   "id": "c70b6585-3ee7-4ed2-8b31-3a3ab42f064a",
   "metadata": {},
   "outputs": [
    {
     "data": {
      "image/png": "[encoded data removed]",
      "text/plain": [
       "<Figure size 640x480 with 1 Axes>"
      ]
     },
     "metadata": {},
     "output_type": "display_data"
    }
   ],
   "source": [
    "sns.boxplot(df['price'],color='lightgreen')\n",
    "plt.grid()"
   ]
  },
  {
   "cell_type": "code",
   "execution_count": 180,
   "id": "78b20a28-df5d-46f3-bfff-8850d711b566",
   "metadata": {},
   "outputs": [
    {
     "name": "stdout",
     "output_type": "stream",
     "text": [
      "3.2808381561991324 14.950273204760892\n"
     ]
    }
   ],
   "source": [
    "#skewness and kurtosis\n",
    "skewness = df['price'].skew()\n",
    "kurtosis = df['price'].kurt()\n",
    "\n",
    "print(skewness,kurtosis)"
   ]
  },
  {
   "cell_type": "code",
   "execution_count": 182,
   "id": "924d3944-2ca3-405d-84a4-d245b2eef34c",
   "metadata": {},
   "outputs": [
    {
     "data": {
      "text/plain": [
       "0.01     0.250\n",
       "0.05     0.370\n",
       "0.95     8.500\n",
       "0.99    15.252\n",
       "Name: price, dtype: float64"
      ]
     },
     "execution_count": 182,
     "metadata": {},
     "output_type": "execute_result"
    }
   ],
   "source": [
    "#Quantile Analysis\n",
    "quantiles = df['price'].quantile([0.01, 0.05, 0.95, 0.99])\n",
    "\n",
    "quantiles\n"
   ]
  },
  {
   "cell_type": "code",
   "execution_count": 184,
   "id": "a463f1fc-8bc4-4de7-8c18-4980a650c8e9",
   "metadata": {},
   "outputs": [
    {
     "data": {
      "text/plain": [
       "1.8"
      ]
     },
     "execution_count": 184,
     "metadata": {},
     "output_type": "execute_result"
    }
   ],
   "source": [
    "# Identify potential outliers using IQR method\n",
    "Q1 = df['price'].describe()['25%']\n",
    "Q3 = df['price'].describe()['75%']\n",
    "IQR = Q3 - Q1\n",
    "\n",
    "IQR"
   ]
  },
  {
   "cell_type": "code",
   "execution_count": 186,
   "id": "64514be9-3384-4738-bdad-708529c00daf",
   "metadata": {},
   "outputs": [
    {
     "name": "stdout",
     "output_type": "stream",
     "text": [
      "-1.7500000000000002 5.45\n"
     ]
    }
   ],
   "source": [
    "lower_bound = Q1 - 1.5 * IQR\n",
    "upper_bound = Q3 + 1.5 * IQR\n",
    "\n",
    "print(lower_bound, upper_bound)"
   ]
  },
  {
   "cell_type": "code",
   "execution_count": 188,
   "id": "b3f2be1d-3d5f-48b4-a96e-bc7c8eafafc4",
   "metadata": {},
   "outputs": [
    {
     "data": {
      "text/plain": [
       "(425, 40)"
      ]
     },
     "execution_count": 188,
     "metadata": {},
     "output_type": "execute_result"
    }
   ],
   "source": [
    "outliers = df[(df['price'] < lower_bound) | (df['price'] > upper_bound)]\n",
    "outliers.shape"
   ]
  },
  {
   "cell_type": "code",
   "execution_count": 190,
   "id": "f7d5e6de-e78f-48e3-be8a-303aa382a20e",
   "metadata": {},
   "outputs": [
    {
     "data": {
      "text/plain": [
       "count    425.000000\n",
       "mean       9.235624\n",
       "std        4.065259\n",
       "min        5.460000\n",
       "25%        6.460000\n",
       "50%        8.000000\n",
       "75%       10.750000\n",
       "max       31.500000\n",
       "Name: price, dtype: float64"
      ]
     },
     "execution_count": 190,
     "metadata": {},
     "output_type": "execute_result"
    }
   ],
   "source": [
    "outliers['price'].describe()"
   ]
  },
  {
   "cell_type": "code",
   "execution_count": 194,
   "id": "7b5216dc-2099-4363-bace-9b611592d7f5",
   "metadata": {},
   "outputs": [
    {
     "data": {
      "image/png": "[encoded data removed]",
      "text/plain": [
       "<Figure size 640x480 with 1 Axes>"
      ]
     },
     "metadata": {},
     "output_type": "display_data"
    }
   ],
   "source": [
    "# ecdf plot empirical cummilative distribution function\n",
    "ecdf = df['price'].value_counts().sort_index().cumsum() / len(df['price'])\n",
    "plt.plot(ecdf.index, ecdf, marker='.', linestyle='none')\n",
    "plt.grid()"
   ]
  },
  {
   "cell_type": "markdown",
   "id": "9f541612-73c5-4e57-b507-6b114f4654dd",
   "metadata": {},
   "source": [
    "### If the data is rightly skewed, we can perform the log transformation"
   ]
  },
  {
   "cell_type": "code",
   "execution_count": 197,
   "id": "9034b6fc-2761-4f4a-934d-47e4ab59220a",
   "metadata": {},
   "outputs": [
    {
     "data": {
      "image/png": "[encoded data removed]",
      "text/plain": [
       "<Figure size 1500x600 with 2 Axes>"
      ]
     },
     "metadata": {},
     "output_type": "display_data"
    }
   ],
   "source": [
    "plt.figure(figsize=(15, 6))\n",
    "\n",
    "# Distribution plot without log transformation\n",
    "plt.subplot(1, 2, 1)\n",
    "sns.histplot(df['price'], kde=True, bins=50, color='skyblue')\n",
    "plt.title('Distribution of Prices (Original)')\n",
    "plt.xlabel('Price (in Crores)')\n",
    "plt.ylabel('Frequency')\n",
    "\n",
    "# Distribution plot with log transformation\n",
    "plt.subplot(1, 2, 2)\n",
    "sns.histplot(np.log1p(df['price']), kde=True, bins=50, color='lightgreen')\n",
    "plt.title('Distribution of Prices (Log Transformed)')\n",
    "plt.xlabel('Log(Price)')\n",
    "plt.ylabel('Frequency')\n",
    "\n",
    "plt.tight_layout()\n",
    "plt.show()"
   ]
  },
  {
   "cell_type": "markdown",
   "id": "6c628834-d2ea-4bba-be7b-8ca381468115",
   "metadata": {},
   "source": [
    "### 4. Price_per_sqft"
   ]
  },
  {
   "cell_type": "code",
   "execution_count": 201,
   "id": "325b389b-428c-48b7-88d0-48d727d75fb5",
   "metadata": {},
   "outputs": [
    {
     "data": {
      "text/plain": [
       "19"
      ]
     },
     "execution_count": 201,
     "metadata": {},
     "output_type": "execute_result"
    }
   ],
   "source": [
    "df['price_per_sqft'].isnull().sum()"
   ]
  },
  {
   "cell_type": "code",
   "execution_count": 203,
   "id": "8dedd2b4-571d-4902-a680-7f5c6c4d5378",
   "metadata": {},
   "outputs": [
    {
     "data": {
      "text/plain": [
       "count      3663.000000\n",
       "mean      13897.214851\n",
       "std       23200.629757\n",
       "min           4.000000\n",
       "25%        6818.500000\n",
       "50%        9022.000000\n",
       "75%       13888.500000\n",
       "max      600000.000000\n",
       "Name: price_per_sqft, dtype: float64"
      ]
     },
     "execution_count": 203,
     "metadata": {},
     "output_type": "execute_result"
    }
   ],
   "source": [
    "df['price_per_sqft'].describe()"
   ]
  },
  {
   "cell_type": "code",
   "execution_count": 209,
   "id": "f33b2703-d11d-4616-8792-fc8a6cc7c4a1",
   "metadata": {},
   "outputs": [
    {
     "data": {
      "text/plain": [
       "<Axes: xlabel='price_per_sqft', ylabel='Count'>"
      ]
     },
     "execution_count": 209,
     "metadata": {},
     "output_type": "execute_result"
    },
    {
     "data": {
      "image/png": "[encoded data removed]",
      "text/plain": [
       "<Figure size 640x480 with 1 Axes>"
      ]
     },
     "metadata": {},
     "output_type": "display_data"
    }
   ],
   "source": [
    "sns.histplot(df['price_per_sqft'],bins=50,kde=True)"
   ]
  },
  {
   "cell_type": "code",
   "execution_count": 225,
   "id": "22ebf5f3-997b-458c-86d4-60036421dfed",
   "metadata": {},
   "outputs": [
    {
     "data": {
      "text/plain": [
       "<Axes: ylabel='price_per_sqft'>"
      ]
     },
     "execution_count": 225,
     "metadata": {},
     "output_type": "execute_result"
    },
    {
     "data": {
      "image/png": "[encoded data removed]",
      "text/plain": [
       "<Figure size 640x480 with 1 Axes>"
      ]
     },
     "metadata": {},
     "output_type": "display_data"
    }
   ],
   "source": [
    "sns.boxplot(df['price_per_sqft'],color='red')"
   ]
  },
  {
   "cell_type": "markdown",
   "id": "77bc4fb5-2fc9-423d-bb2a-e5125b77aef6",
   "metadata": {},
   "source": [
    "### 5.BedRoom"
   ]
  },
  {
   "cell_type": "code",
   "execution_count": 230,
   "id": "bf94b66a-6f16-48d7-ba80-083fb3eda1e2",
   "metadata": {},
   "outputs": [
    {
     "data": {
      "text/html": [
       "<div>\n",
       "<style scoped>\n",
       "    .dataframe tbody tr th:only-of-type {\n",
       "        vertical-align: middle;\n",
       "    }\n",
       "\n",
       "    .dataframe tbody tr th {\n",
       "        vertical-align: top;\n",
       "    }\n",
       "\n",
       "    .dataframe thead th {\n",
       "        text-align: right;\n",
       "    }\n",
       "</style>\n",
       "<table border=\"1\" class=\"dataframe\">\n",
       "  <thead>\n",
       "    <tr style=\"text-align: right;\">\n",
       "      <th></th>\n",
       "      <th>property_type</th>\n",
       "      <th>society</th>\n",
       "      <th>sector</th>\n",
       "      <th>price</th>\n",
       "      <th>price_per_sqft</th>\n",
       "      <th>area</th>\n",
       "      <th>areaWithType</th>\n",
       "      <th>bedRoom</th>\n",
       "      <th>bathroom</th>\n",
       "      <th>balcony</th>\n",
       "      <th>...</th>\n",
       "      <th>Modular Kitchen</th>\n",
       "      <th>Fridge</th>\n",
       "      <th>Geyser</th>\n",
       "      <th>Microwave</th>\n",
       "      <th>Exhaust Fan</th>\n",
       "      <th>Stove</th>\n",
       "      <th>Light</th>\n",
       "      <th>Curtains</th>\n",
       "      <th>Fan</th>\n",
       "      <th>luxury_score</th>\n",
       "    </tr>\n",
       "  </thead>\n",
       "  <tbody>\n",
       "    <tr>\n",
       "      <th>3681</th>\n",
       "      <td>NaN</td>\n",
       "      <td>NaN</td>\n",
       "      <td>sector 92</td>\n",
       "      <td>NaN</td>\n",
       "      <td>NaN</td>\n",
       "      <td>NaN</td>\n",
       "      <td>NaN</td>\n",
       "      <td>NaN</td>\n",
       "      <td>NaN</td>\n",
       "      <td>NaN</td>\n",
       "      <td>...</td>\n",
       "      <td>0</td>\n",
       "      <td>0</td>\n",
       "      <td>0</td>\n",
       "      <td>0</td>\n",
       "      <td>0</td>\n",
       "      <td>0</td>\n",
       "      <td>0</td>\n",
       "      <td>0</td>\n",
       "      <td>0</td>\n",
       "      <td>NaN</td>\n",
       "    </tr>\n",
       "    <tr>\n",
       "      <th>3682</th>\n",
       "      <td>NaN</td>\n",
       "      <td>NaN</td>\n",
       "      <td>sector 76</td>\n",
       "      <td>NaN</td>\n",
       "      <td>NaN</td>\n",
       "      <td>NaN</td>\n",
       "      <td>NaN</td>\n",
       "      <td>NaN</td>\n",
       "      <td>NaN</td>\n",
       "      <td>NaN</td>\n",
       "      <td>...</td>\n",
       "      <td>0</td>\n",
       "      <td>0</td>\n",
       "      <td>0</td>\n",
       "      <td>0</td>\n",
       "      <td>0</td>\n",
       "      <td>0</td>\n",
       "      <td>0</td>\n",
       "      <td>0</td>\n",
       "      <td>0</td>\n",
       "      <td>NaN</td>\n",
       "    </tr>\n",
       "  </tbody>\n",
       "</table>\n",
       "<p>2 rows × 40 columns</p>\n",
       "</div>"
      ],
      "text/plain": [
       "     property_type society     sector  price  price_per_sqft  area  \\\n",
       "3681           NaN     NaN  sector 92    NaN             NaN   NaN   \n",
       "3682           NaN     NaN  sector 76    NaN             NaN   NaN   \n",
       "\n",
       "     areaWithType  bedRoom  bathroom balcony  ...  Modular Kitchen Fridge  \\\n",
       "3681          NaN      NaN       NaN     NaN  ...                0      0   \n",
       "3682          NaN      NaN       NaN     NaN  ...                0      0   \n",
       "\n",
       "     Geyser  Microwave  Exhaust Fan  Stove  Light  Curtains  Fan  luxury_score  \n",
       "3681      0          0            0      0      0         0    0           NaN  \n",
       "3682      0          0            0      0      0         0    0           NaN  \n",
       "\n",
       "[2 rows x 40 columns]"
      ]
     },
     "execution_count": 230,
     "metadata": {},
     "output_type": "execute_result"
    }
   ],
   "source": [
    "df[df['bedRoom'].isnull()]"
   ]
  },
  {
   "cell_type": "code",
   "execution_count": 240,
   "id": "aed1c0f7-b7a7-4f02-afb9-0cdf090ccde7",
   "metadata": {},
   "outputs": [],
   "source": [
    "df.dropna(subset=['bedRoom'],inplace=True)"
   ]
  },
  {
   "cell_type": "code",
   "execution_count": 242,
   "id": "14811342-f21a-4380-abfa-25f49871c80f",
   "metadata": {},
   "outputs": [
    {
     "data": {
      "text/plain": [
       "0"
      ]
     },
     "execution_count": 242,
     "metadata": {},
     "output_type": "execute_result"
    }
   ],
   "source": [
    "df['bedRoom'].isnull().sum()"
   ]
  },
  {
   "cell_type": "code",
   "execution_count": 254,
   "id": "2fb95332-51c2-46d0-acf7-a1ff7418d61b",
   "metadata": {},
   "outputs": [
    {
     "data": {
      "text/plain": [
       "<Axes: xlabel='bedRoom'>"
      ]
     },
     "execution_count": 254,
     "metadata": {},
     "output_type": "execute_result"
    },
    {
     "data": {
      "image/png": "[encoded data removed]",
      "text/plain": [
       "<Figure size 640x480 with 1 Axes>"
      ]
     },
     "metadata": {},
     "output_type": "display_data"
    }
   ],
   "source": [
    "df['bedRoom'].value_counts().sort_index().plot(kind='bar')"
   ]
  },
  {
   "cell_type": "code",
   "execution_count": 268,
   "id": "fc245416-9d7b-4005-9989-13b53685b85d",
   "metadata": {},
   "outputs": [
    {
     "data": {
      "text/plain": [
       "<Axes: ylabel='proportion'>"
      ]
     },
     "execution_count": 268,
     "metadata": {},
     "output_type": "execute_result"
    },
    {
     "data": {
      "image/png": "[encoded data removed]",
      "text/plain": [
       "<Figure size 640x480 with 1 Axes>"
      ]
     },
     "metadata": {},
     "output_type": "display_data"
    }
   ],
   "source": [
    "df['bedRoom'].value_counts(normalize=True).plot(kind='pie',autopct='%0.2f%%')"
   ]
  },
  {
   "cell_type": "markdown",
   "id": "995abcd4-7be2-465a-9a6e-23364b0ef3ff",
   "metadata": {},
   "source": [
    "### 6.Bathroom"
   ]
  },
  {
   "cell_type": "code",
   "execution_count": 275,
   "id": "a7dba961-77f9-4f2d-b231-369ee4e19ed6",
   "metadata": {},
   "outputs": [
    {
     "data": {
      "text/plain": [
       "0"
      ]
     },
     "execution_count": 275,
     "metadata": {},
     "output_type": "execute_result"
    }
   ],
   "source": [
    "df['bathroom'].isnull().sum()"
   ]
  },
  {
   "cell_type": "code",
   "execution_count": 281,
   "id": "d4e1793f-fa83-4d60-9068-334c615c1869",
   "metadata": {},
   "outputs": [
    {
     "data": {
      "text/plain": [
       "<Axes: xlabel='bathroom'>"
      ]
     },
     "execution_count": 281,
     "metadata": {},
     "output_type": "execute_result"
    },
    {
     "data": {
      "image/png": "[encoded data removed]",
      "text/plain": [
       "<Figure size 640x480 with 1 Axes>"
      ]
     },
     "metadata": {},
     "output_type": "display_data"
    }
   ],
   "source": [
    "df['bathroom'].value_counts().sort_index().plot(kind='bar')"
   ]
  },
  {
   "cell_type": "code",
   "execution_count": 285,
   "id": "bc8aa8e9-8523-438d-8d3c-028b4e573b4b",
   "metadata": {},
   "outputs": [
    {
     "data": {
      "text/plain": [
       "<Axes: ylabel='proportion'>"
      ]
     },
     "execution_count": 285,
     "metadata": {},
     "output_type": "execute_result"
    },
    {
     "data": {
      "image/png": "[encoded data removed]",
      "text/plain": [
       "<Figure size 640x480 with 1 Axes>"
      ]
     },
     "metadata": {},
     "output_type": "display_data"
    }
   ],
   "source": [
    "df['bathroom'].value_counts(normalize=True).plot(kind='pie',autopct='%0.2f%%')"
   ]
  },
  {
   "cell_type": "markdown",
   "id": "476c223a-ef58-474b-b979-8626848ee8f9",
   "metadata": {},
   "source": [
    "### 7.Balcony"
   ]
  },
  {
   "cell_type": "code",
   "execution_count": 289,
   "id": "f26841cf-c73b-4f7a-899c-481fc3fc4f93",
   "metadata": {},
   "outputs": [
    {
     "data": {
      "text/plain": [
       "0"
      ]
     },
     "execution_count": 289,
     "metadata": {},
     "output_type": "execute_result"
    }
   ],
   "source": [
    "df['balcony'].isnull().sum()"
   ]
  },
  {
   "cell_type": "code",
   "execution_count": 295,
   "id": "cebfa451-1aee-41a5-91fc-0bbc6e04449a",
   "metadata": {},
   "outputs": [
    {
     "data": {
      "text/plain": [
       "<Axes: xlabel='balcony'>"
      ]
     },
     "execution_count": 295,
     "metadata": {},
     "output_type": "execute_result"
    },
    {
     "data": {
      "image/png": "[encoded data removed]",
      "text/plain": [
       "<Figure size 640x480 with 1 Axes>"
      ]
     },
     "metadata": {},
     "output_type": "display_data"
    }
   ],
   "source": [
    "df['balcony'].value_counts().sort_index().plot(kind='bar')"
   ]
  },
  {
   "cell_type": "code",
   "execution_count": 297,
   "id": "664783dc-dc98-4955-b2f1-c5852a9db086",
   "metadata": {},
   "outputs": [
    {
     "data": {
      "text/plain": [
       "<Axes: ylabel='proportion'>"
      ]
     },
     "execution_count": 297,
     "metadata": {},
     "output_type": "execute_result"
    },
    {
     "data": {
      "image/png": "[encoded data removed]",
      "text/plain": [
       "<Figure size 640x480 with 1 Axes>"
      ]
     },
     "metadata": {},
     "output_type": "display_data"
    }
   ],
   "source": [
    "df['balcony'].value_counts(normalize=True).head().plot(kind='pie',autopct='%0.2f%%')\n"
   ]
  },
  {
   "cell_type": "code",
   "execution_count": 309,
   "id": "3de4cc7d-d835-4a8e-bcec-c809a968761b",
   "metadata": {},
   "outputs": [
    {
     "data": {
      "text/html": [
       "<div>\n",
       "<style scoped>\n",
       "    .dataframe tbody tr th:only-of-type {\n",
       "        vertical-align: middle;\n",
       "    }\n",
       "\n",
       "    .dataframe tbody tr th {\n",
       "        vertical-align: top;\n",
       "    }\n",
       "\n",
       "    .dataframe thead th {\n",
       "        text-align: right;\n",
       "    }\n",
       "</style>\n",
       "<table border=\"1\" class=\"dataframe\">\n",
       "  <thead>\n",
       "    <tr style=\"text-align: right;\">\n",
       "      <th></th>\n",
       "      <th>bathroom</th>\n",
       "      <th>balcony</th>\n",
       "      <th>floorNum</th>\n",
       "      <th>facing</th>\n",
       "      <th>agePossession</th>\n",
       "      <th>super_built_up_area</th>\n",
       "      <th>built_up_area</th>\n",
       "      <th>carpet_area</th>\n",
       "      <th>study room</th>\n",
       "      <th>servant room</th>\n",
       "      <th>...</th>\n",
       "      <th>Modular Kitchen</th>\n",
       "      <th>Fridge</th>\n",
       "      <th>Geyser</th>\n",
       "      <th>Microwave</th>\n",
       "      <th>Exhaust Fan</th>\n",
       "      <th>Stove</th>\n",
       "      <th>Light</th>\n",
       "      <th>Curtains</th>\n",
       "      <th>Fan</th>\n",
       "      <th>luxury_score</th>\n",
       "    </tr>\n",
       "  </thead>\n",
       "  <tbody>\n",
       "    <tr>\n",
       "      <th>0</th>\n",
       "      <td>2.0</td>\n",
       "      <td>3</td>\n",
       "      <td>4.0</td>\n",
       "      <td>East</td>\n",
       "      <td>New Property</td>\n",
       "      <td>NaN</td>\n",
       "      <td>NaN</td>\n",
       "      <td>NaN</td>\n",
       "      <td>0</td>\n",
       "      <td>0</td>\n",
       "      <td>...</td>\n",
       "      <td>0</td>\n",
       "      <td>0</td>\n",
       "      <td>0</td>\n",
       "      <td>1</td>\n",
       "      <td>0</td>\n",
       "      <td>0</td>\n",
       "      <td>1</td>\n",
       "      <td>1</td>\n",
       "      <td>1</td>\n",
       "      <td>80.0</td>\n",
       "    </tr>\n",
       "    <tr>\n",
       "      <th>1</th>\n",
       "      <td>3.0</td>\n",
       "      <td>3</td>\n",
       "      <td>4.0</td>\n",
       "      <td>North-East</td>\n",
       "      <td>Relatively New</td>\n",
       "      <td>1450.0</td>\n",
       "      <td>NaN</td>\n",
       "      <td>1177.00</td>\n",
       "      <td>0</td>\n",
       "      <td>0</td>\n",
       "      <td>...</td>\n",
       "      <td>1</td>\n",
       "      <td>0</td>\n",
       "      <td>2</td>\n",
       "      <td>0</td>\n",
       "      <td>0</td>\n",
       "      <td>1</td>\n",
       "      <td>33</td>\n",
       "      <td>0</td>\n",
       "      <td>5</td>\n",
       "      <td>97.0</td>\n",
       "    </tr>\n",
       "    <tr>\n",
       "      <th>2</th>\n",
       "      <td>3.0</td>\n",
       "      <td>3+</td>\n",
       "      <td>4.0</td>\n",
       "      <td>North-West</td>\n",
       "      <td>New Property</td>\n",
       "      <td>NaN</td>\n",
       "      <td>2160.0</td>\n",
       "      <td>NaN</td>\n",
       "      <td>0</td>\n",
       "      <td>1</td>\n",
       "      <td>...</td>\n",
       "      <td>0</td>\n",
       "      <td>0</td>\n",
       "      <td>3</td>\n",
       "      <td>0</td>\n",
       "      <td>0</td>\n",
       "      <td>0</td>\n",
       "      <td>4</td>\n",
       "      <td>0</td>\n",
       "      <td>5</td>\n",
       "      <td>0.0</td>\n",
       "    </tr>\n",
       "    <tr>\n",
       "      <th>3</th>\n",
       "      <td>2.0</td>\n",
       "      <td>2</td>\n",
       "      <td>6.0</td>\n",
       "      <td>South</td>\n",
       "      <td>Relatively New</td>\n",
       "      <td>1276.0</td>\n",
       "      <td>NaN</td>\n",
       "      <td>904.01</td>\n",
       "      <td>0</td>\n",
       "      <td>0</td>\n",
       "      <td>...</td>\n",
       "      <td>1</td>\n",
       "      <td>0</td>\n",
       "      <td>0</td>\n",
       "      <td>0</td>\n",
       "      <td>0</td>\n",
       "      <td>1</td>\n",
       "      <td>0</td>\n",
       "      <td>0</td>\n",
       "      <td>0</td>\n",
       "      <td>80.0</td>\n",
       "    </tr>\n",
       "    <tr>\n",
       "      <th>4</th>\n",
       "      <td>4.0</td>\n",
       "      <td>3+</td>\n",
       "      <td>7.0</td>\n",
       "      <td>North-West</td>\n",
       "      <td>Relatively New</td>\n",
       "      <td>2727.0</td>\n",
       "      <td>NaN</td>\n",
       "      <td>NaN</td>\n",
       "      <td>0</td>\n",
       "      <td>1</td>\n",
       "      <td>...</td>\n",
       "      <td>0</td>\n",
       "      <td>0</td>\n",
       "      <td>0</td>\n",
       "      <td>0</td>\n",
       "      <td>0</td>\n",
       "      <td>0</td>\n",
       "      <td>0</td>\n",
       "      <td>0</td>\n",
       "      <td>0</td>\n",
       "      <td>88.0</td>\n",
       "    </tr>\n",
       "  </tbody>\n",
       "</table>\n",
       "<p>5 rows × 32 columns</p>\n",
       "</div>"
      ],
      "text/plain": [
       "   bathroom balcony  floorNum      facing   agePossession  \\\n",
       "0       2.0       3       4.0        East    New Property   \n",
       "1       3.0       3       4.0  North-East  Relatively New   \n",
       "2       3.0      3+       4.0  North-West    New Property   \n",
       "3       2.0       2       6.0       South  Relatively New   \n",
       "4       4.0      3+       7.0  North-West  Relatively New   \n",
       "\n",
       "   super_built_up_area  built_up_area  carpet_area  study room  servant room  \\\n",
       "0                  NaN            NaN          NaN           0             0   \n",
       "1               1450.0            NaN      1177.00           0             0   \n",
       "2                  NaN         2160.0          NaN           0             1   \n",
       "3               1276.0            NaN       904.01           0             0   \n",
       "4               2727.0            NaN          NaN           0             1   \n",
       "\n",
       "   ...  Modular Kitchen  Fridge  Geyser  Microwave  Exhaust Fan  Stove  Light  \\\n",
       "0  ...                0       0       0          1            0      0      1   \n",
       "1  ...                1       0       2          0            0      1     33   \n",
       "2  ...                0       0       3          0            0      0      4   \n",
       "3  ...                1       0       0          0            0      1      0   \n",
       "4  ...                0       0       0          0            0      0      0   \n",
       "\n",
       "   Curtains  Fan  luxury_score  \n",
       "0         1    1          80.0  \n",
       "1         0    5          97.0  \n",
       "2         0    5           0.0  \n",
       "3         0    0          80.0  \n",
       "4         0    0          88.0  \n",
       "\n",
       "[5 rows x 32 columns]"
      ]
     },
     "execution_count": 309,
     "metadata": {},
     "output_type": "execute_result"
    }
   ],
   "source": [
    "df.iloc[:,8:].head()"
   ]
  },
  {
   "cell_type": "markdown",
   "id": "abe3db8f-ae9e-498f-b3fc-46078fe2c76b",
   "metadata": {},
   "source": [
    "## 8.floorNum"
   ]
  },
  {
   "cell_type": "code",
   "execution_count": 316,
   "id": "263b2f1c-1dda-4b58-9bc2-e41d904a3a69",
   "metadata": {},
   "outputs": [
    {
     "data": {
      "text/plain": [
       "19"
      ]
     },
     "execution_count": 316,
     "metadata": {},
     "output_type": "execute_result"
    }
   ],
   "source": [
    "df['floorNum'].isnull().sum()"
   ]
  },
  {
   "cell_type": "code",
   "execution_count": 320,
   "id": "55176e40-dcf4-4264-a040-30705e752f8e",
   "metadata": {},
   "outputs": [
    {
     "data": {
      "text/html": [
       "<div>\n",
       "<style scoped>\n",
       "    .dataframe tbody tr th:only-of-type {\n",
       "        vertical-align: middle;\n",
       "    }\n",
       "\n",
       "    .dataframe tbody tr th {\n",
       "        vertical-align: top;\n",
       "    }\n",
       "\n",
       "    .dataframe thead th {\n",
       "        text-align: right;\n",
       "    }\n",
       "</style>\n",
       "<table border=\"1\" class=\"dataframe\">\n",
       "  <thead>\n",
       "    <tr style=\"text-align: right;\">\n",
       "      <th></th>\n",
       "      <th>bathroom</th>\n",
       "      <th>balcony</th>\n",
       "      <th>floorNum</th>\n",
       "      <th>facing</th>\n",
       "      <th>agePossession</th>\n",
       "      <th>super_built_up_area</th>\n",
       "      <th>built_up_area</th>\n",
       "      <th>carpet_area</th>\n",
       "      <th>study room</th>\n",
       "      <th>servant room</th>\n",
       "      <th>...</th>\n",
       "      <th>Modular Kitchen</th>\n",
       "      <th>Fridge</th>\n",
       "      <th>Geyser</th>\n",
       "      <th>Microwave</th>\n",
       "      <th>Exhaust Fan</th>\n",
       "      <th>Stove</th>\n",
       "      <th>Light</th>\n",
       "      <th>Curtains</th>\n",
       "      <th>Fan</th>\n",
       "      <th>luxury_score</th>\n",
       "    </tr>\n",
       "  </thead>\n",
       "  <tbody>\n",
       "    <tr>\n",
       "      <th>10</th>\n",
       "      <td>3.0</td>\n",
       "      <td>0</td>\n",
       "      <td>NaN</td>\n",
       "      <td>NaN</td>\n",
       "      <td>Old Property</td>\n",
       "      <td>NaN</td>\n",
       "      <td>1458.0</td>\n",
       "      <td>NaN</td>\n",
       "      <td>0</td>\n",
       "      <td>0</td>\n",
       "      <td>...</td>\n",
       "      <td>0</td>\n",
       "      <td>0</td>\n",
       "      <td>0</td>\n",
       "      <td>0</td>\n",
       "      <td>0</td>\n",
       "      <td>0</td>\n",
       "      <td>0</td>\n",
       "      <td>0</td>\n",
       "      <td>0</td>\n",
       "      <td>0.0</td>\n",
       "    </tr>\n",
       "    <tr>\n",
       "      <th>33</th>\n",
       "      <td>4.0</td>\n",
       "      <td>3+</td>\n",
       "      <td>NaN</td>\n",
       "      <td>West</td>\n",
       "      <td>Moderately Old</td>\n",
       "      <td>NaN</td>\n",
       "      <td>3200.0</td>\n",
       "      <td>NaN</td>\n",
       "      <td>0</td>\n",
       "      <td>1</td>\n",
       "      <td>...</td>\n",
       "      <td>1</td>\n",
       "      <td>0</td>\n",
       "      <td>2</td>\n",
       "      <td>0</td>\n",
       "      <td>1</td>\n",
       "      <td>0</td>\n",
       "      <td>10</td>\n",
       "      <td>1</td>\n",
       "      <td>6</td>\n",
       "      <td>130.0</td>\n",
       "    </tr>\n",
       "    <tr>\n",
       "      <th>398</th>\n",
       "      <td>1.0</td>\n",
       "      <td>0</td>\n",
       "      <td>NaN</td>\n",
       "      <td>NaN</td>\n",
       "      <td>Old Property</td>\n",
       "      <td>NaN</td>\n",
       "      <td>NaN</td>\n",
       "      <td>NaN</td>\n",
       "      <td>0</td>\n",
       "      <td>0</td>\n",
       "      <td>...</td>\n",
       "      <td>0</td>\n",
       "      <td>0</td>\n",
       "      <td>0</td>\n",
       "      <td>0</td>\n",
       "      <td>0</td>\n",
       "      <td>0</td>\n",
       "      <td>0</td>\n",
       "      <td>0</td>\n",
       "      <td>0</td>\n",
       "      <td>150.0</td>\n",
       "    </tr>\n",
       "    <tr>\n",
       "      <th>444</th>\n",
       "      <td>1.0</td>\n",
       "      <td>0</td>\n",
       "      <td>NaN</td>\n",
       "      <td>NaN</td>\n",
       "      <td>Under Construction</td>\n",
       "      <td>NaN</td>\n",
       "      <td>1242.0</td>\n",
       "      <td>NaN</td>\n",
       "      <td>0</td>\n",
       "      <td>0</td>\n",
       "      <td>...</td>\n",
       "      <td>0</td>\n",
       "      <td>0</td>\n",
       "      <td>0</td>\n",
       "      <td>0</td>\n",
       "      <td>0</td>\n",
       "      <td>0</td>\n",
       "      <td>0</td>\n",
       "      <td>0</td>\n",
       "      <td>0</td>\n",
       "      <td>0.0</td>\n",
       "    </tr>\n",
       "    <tr>\n",
       "      <th>866</th>\n",
       "      <td>4.0</td>\n",
       "      <td>2</td>\n",
       "      <td>NaN</td>\n",
       "      <td>East</td>\n",
       "      <td>Moderately Old</td>\n",
       "      <td>NaN</td>\n",
       "      <td>3240.0</td>\n",
       "      <td>NaN</td>\n",
       "      <td>0</td>\n",
       "      <td>1</td>\n",
       "      <td>...</td>\n",
       "      <td>1</td>\n",
       "      <td>0</td>\n",
       "      <td>0</td>\n",
       "      <td>0</td>\n",
       "      <td>0</td>\n",
       "      <td>0</td>\n",
       "      <td>0</td>\n",
       "      <td>0</td>\n",
       "      <td>0</td>\n",
       "      <td>21.0</td>\n",
       "    </tr>\n",
       "    <tr>\n",
       "      <th>1149</th>\n",
       "      <td>4.0</td>\n",
       "      <td>2</td>\n",
       "      <td>NaN</td>\n",
       "      <td>North-East</td>\n",
       "      <td>Old Property</td>\n",
       "      <td>NaN</td>\n",
       "      <td>3762.0</td>\n",
       "      <td>NaN</td>\n",
       "      <td>0</td>\n",
       "      <td>1</td>\n",
       "      <td>...</td>\n",
       "      <td>0</td>\n",
       "      <td>0</td>\n",
       "      <td>0</td>\n",
       "      <td>0</td>\n",
       "      <td>0</td>\n",
       "      <td>0</td>\n",
       "      <td>6</td>\n",
       "      <td>0</td>\n",
       "      <td>6</td>\n",
       "      <td>21.0</td>\n",
       "    </tr>\n",
       "    <tr>\n",
       "      <th>1171</th>\n",
       "      <td>3.0</td>\n",
       "      <td>0</td>\n",
       "      <td>NaN</td>\n",
       "      <td>NaN</td>\n",
       "      <td>Under Construction</td>\n",
       "      <td>NaN</td>\n",
       "      <td>NaN</td>\n",
       "      <td>NaN</td>\n",
       "      <td>0</td>\n",
       "      <td>0</td>\n",
       "      <td>...</td>\n",
       "      <td>0</td>\n",
       "      <td>0</td>\n",
       "      <td>0</td>\n",
       "      <td>0</td>\n",
       "      <td>0</td>\n",
       "      <td>0</td>\n",
       "      <td>0</td>\n",
       "      <td>0</td>\n",
       "      <td>0</td>\n",
       "      <td>49.0</td>\n",
       "    </tr>\n",
       "    <tr>\n",
       "      <th>1264</th>\n",
       "      <td>14.0</td>\n",
       "      <td>3+</td>\n",
       "      <td>NaN</td>\n",
       "      <td>East</td>\n",
       "      <td>New Property</td>\n",
       "      <td>NaN</td>\n",
       "      <td>1845.0</td>\n",
       "      <td>NaN</td>\n",
       "      <td>0</td>\n",
       "      <td>1</td>\n",
       "      <td>...</td>\n",
       "      <td>1</td>\n",
       "      <td>0</td>\n",
       "      <td>13</td>\n",
       "      <td>0</td>\n",
       "      <td>1</td>\n",
       "      <td>0</td>\n",
       "      <td>23</td>\n",
       "      <td>0</td>\n",
       "      <td>15</td>\n",
       "      <td>49.0</td>\n",
       "    </tr>\n",
       "    <tr>\n",
       "      <th>1758</th>\n",
       "      <td>2.0</td>\n",
       "      <td>0</td>\n",
       "      <td>NaN</td>\n",
       "      <td>NaN</td>\n",
       "      <td>Under Construction</td>\n",
       "      <td>NaN</td>\n",
       "      <td>NaN</td>\n",
       "      <td>NaN</td>\n",
       "      <td>0</td>\n",
       "      <td>0</td>\n",
       "      <td>...</td>\n",
       "      <td>0</td>\n",
       "      <td>0</td>\n",
       "      <td>0</td>\n",
       "      <td>0</td>\n",
       "      <td>0</td>\n",
       "      <td>0</td>\n",
       "      <td>0</td>\n",
       "      <td>0</td>\n",
       "      <td>0</td>\n",
       "      <td>42.0</td>\n",
       "    </tr>\n",
       "    <tr>\n",
       "      <th>1920</th>\n",
       "      <td>2.0</td>\n",
       "      <td>2</td>\n",
       "      <td>NaN</td>\n",
       "      <td>NaN</td>\n",
       "      <td>Moderately Old</td>\n",
       "      <td>NaN</td>\n",
       "      <td>585.0</td>\n",
       "      <td>NaN</td>\n",
       "      <td>0</td>\n",
       "      <td>0</td>\n",
       "      <td>...</td>\n",
       "      <td>1</td>\n",
       "      <td>0</td>\n",
       "      <td>0</td>\n",
       "      <td>0</td>\n",
       "      <td>1</td>\n",
       "      <td>0</td>\n",
       "      <td>10</td>\n",
       "      <td>0</td>\n",
       "      <td>0</td>\n",
       "      <td>7.0</td>\n",
       "    </tr>\n",
       "    <tr>\n",
       "      <th>1958</th>\n",
       "      <td>4.0</td>\n",
       "      <td>3+</td>\n",
       "      <td>NaN</td>\n",
       "      <td>South-West</td>\n",
       "      <td>Relatively New</td>\n",
       "      <td>NaN</td>\n",
       "      <td>5605.0</td>\n",
       "      <td>NaN</td>\n",
       "      <td>0</td>\n",
       "      <td>1</td>\n",
       "      <td>...</td>\n",
       "      <td>1</td>\n",
       "      <td>0</td>\n",
       "      <td>5</td>\n",
       "      <td>1</td>\n",
       "      <td>1</td>\n",
       "      <td>1</td>\n",
       "      <td>24</td>\n",
       "      <td>0</td>\n",
       "      <td>6</td>\n",
       "      <td>9.0</td>\n",
       "    </tr>\n",
       "    <tr>\n",
       "      <th>2106</th>\n",
       "      <td>4.0</td>\n",
       "      <td>1</td>\n",
       "      <td>NaN</td>\n",
       "      <td>NaN</td>\n",
       "      <td>Relatively New</td>\n",
       "      <td>NaN</td>\n",
       "      <td>3240.0</td>\n",
       "      <td>NaN</td>\n",
       "      <td>0</td>\n",
       "      <td>0</td>\n",
       "      <td>...</td>\n",
       "      <td>0</td>\n",
       "      <td>0</td>\n",
       "      <td>0</td>\n",
       "      <td>0</td>\n",
       "      <td>1</td>\n",
       "      <td>0</td>\n",
       "      <td>4</td>\n",
       "      <td>0</td>\n",
       "      <td>4</td>\n",
       "      <td>100.0</td>\n",
       "    </tr>\n",
       "    <tr>\n",
       "      <th>2239</th>\n",
       "      <td>3.0</td>\n",
       "      <td>1</td>\n",
       "      <td>NaN</td>\n",
       "      <td>NaN</td>\n",
       "      <td>Old Property</td>\n",
       "      <td>NaN</td>\n",
       "      <td>540.0</td>\n",
       "      <td>NaN</td>\n",
       "      <td>0</td>\n",
       "      <td>0</td>\n",
       "      <td>...</td>\n",
       "      <td>0</td>\n",
       "      <td>0</td>\n",
       "      <td>0</td>\n",
       "      <td>0</td>\n",
       "      <td>0</td>\n",
       "      <td>0</td>\n",
       "      <td>0</td>\n",
       "      <td>0</td>\n",
       "      <td>0</td>\n",
       "      <td>133.0</td>\n",
       "    </tr>\n",
       "    <tr>\n",
       "      <th>2533</th>\n",
       "      <td>2.0</td>\n",
       "      <td>3+</td>\n",
       "      <td>NaN</td>\n",
       "      <td>NaN</td>\n",
       "      <td>Old Property</td>\n",
       "      <td>NaN</td>\n",
       "      <td>4320.0</td>\n",
       "      <td>NaN</td>\n",
       "      <td>0</td>\n",
       "      <td>0</td>\n",
       "      <td>...</td>\n",
       "      <td>0</td>\n",
       "      <td>0</td>\n",
       "      <td>0</td>\n",
       "      <td>0</td>\n",
       "      <td>0</td>\n",
       "      <td>0</td>\n",
       "      <td>0</td>\n",
       "      <td>0</td>\n",
       "      <td>0</td>\n",
       "      <td>49.0</td>\n",
       "    </tr>\n",
       "    <tr>\n",
       "      <th>2689</th>\n",
       "      <td>4.0</td>\n",
       "      <td>3+</td>\n",
       "      <td>NaN</td>\n",
       "      <td>NaN</td>\n",
       "      <td>Old Property</td>\n",
       "      <td>NaN</td>\n",
       "      <td>3771.0</td>\n",
       "      <td>NaN</td>\n",
       "      <td>0</td>\n",
       "      <td>0</td>\n",
       "      <td>...</td>\n",
       "      <td>0</td>\n",
       "      <td>0</td>\n",
       "      <td>0</td>\n",
       "      <td>0</td>\n",
       "      <td>0</td>\n",
       "      <td>0</td>\n",
       "      <td>0</td>\n",
       "      <td>0</td>\n",
       "      <td>0</td>\n",
       "      <td>41.0</td>\n",
       "    </tr>\n",
       "    <tr>\n",
       "      <th>2946</th>\n",
       "      <td>1.0</td>\n",
       "      <td>3+</td>\n",
       "      <td>NaN</td>\n",
       "      <td>NaN</td>\n",
       "      <td>Moderately Old</td>\n",
       "      <td>NaN</td>\n",
       "      <td>4635.0</td>\n",
       "      <td>NaN</td>\n",
       "      <td>0</td>\n",
       "      <td>0</td>\n",
       "      <td>...</td>\n",
       "      <td>0</td>\n",
       "      <td>0</td>\n",
       "      <td>0</td>\n",
       "      <td>0</td>\n",
       "      <td>0</td>\n",
       "      <td>0</td>\n",
       "      <td>0</td>\n",
       "      <td>0</td>\n",
       "      <td>0</td>\n",
       "      <td>29.0</td>\n",
       "    </tr>\n",
       "    <tr>\n",
       "      <th>3215</th>\n",
       "      <td>6.0</td>\n",
       "      <td>3+</td>\n",
       "      <td>NaN</td>\n",
       "      <td>South-West</td>\n",
       "      <td>Moderately Old</td>\n",
       "      <td>NaN</td>\n",
       "      <td>3240.0</td>\n",
       "      <td>NaN</td>\n",
       "      <td>1</td>\n",
       "      <td>1</td>\n",
       "      <td>...</td>\n",
       "      <td>1</td>\n",
       "      <td>0</td>\n",
       "      <td>0</td>\n",
       "      <td>0</td>\n",
       "      <td>0</td>\n",
       "      <td>0</td>\n",
       "      <td>1</td>\n",
       "      <td>0</td>\n",
       "      <td>1</td>\n",
       "      <td>23.0</td>\n",
       "    </tr>\n",
       "    <tr>\n",
       "      <th>3380</th>\n",
       "      <td>12.0</td>\n",
       "      <td>3+</td>\n",
       "      <td>NaN</td>\n",
       "      <td>West</td>\n",
       "      <td>Moderately Old</td>\n",
       "      <td>NaN</td>\n",
       "      <td>232.0</td>\n",
       "      <td>NaN</td>\n",
       "      <td>1</td>\n",
       "      <td>1</td>\n",
       "      <td>...</td>\n",
       "      <td>1</td>\n",
       "      <td>0</td>\n",
       "      <td>0</td>\n",
       "      <td>0</td>\n",
       "      <td>1</td>\n",
       "      <td>0</td>\n",
       "      <td>33</td>\n",
       "      <td>0</td>\n",
       "      <td>24</td>\n",
       "      <td>0.0</td>\n",
       "    </tr>\n",
       "    <tr>\n",
       "      <th>3453</th>\n",
       "      <td>8.0</td>\n",
       "      <td>3+</td>\n",
       "      <td>NaN</td>\n",
       "      <td>NaN</td>\n",
       "      <td>Relatively New</td>\n",
       "      <td>NaN</td>\n",
       "      <td>2844.0</td>\n",
       "      <td>NaN</td>\n",
       "      <td>1</td>\n",
       "      <td>1</td>\n",
       "      <td>...</td>\n",
       "      <td>1</td>\n",
       "      <td>1</td>\n",
       "      <td>0</td>\n",
       "      <td>1</td>\n",
       "      <td>1</td>\n",
       "      <td>0</td>\n",
       "      <td>0</td>\n",
       "      <td>1</td>\n",
       "      <td>0</td>\n",
       "      <td>141.0</td>\n",
       "    </tr>\n",
       "  </tbody>\n",
       "</table>\n",
       "<p>19 rows × 32 columns</p>\n",
       "</div>"
      ],
      "text/plain": [
       "      bathroom balcony  floorNum      facing       agePossession  \\\n",
       "10         3.0       0       NaN         NaN        Old Property   \n",
       "33         4.0      3+       NaN        West      Moderately Old   \n",
       "398        1.0       0       NaN         NaN        Old Property   \n",
       "444        1.0       0       NaN         NaN  Under Construction   \n",
       "866        4.0       2       NaN        East      Moderately Old   \n",
       "1149       4.0       2       NaN  North-East        Old Property   \n",
       "1171       3.0       0       NaN         NaN  Under Construction   \n",
       "1264      14.0      3+       NaN        East        New Property   \n",
       "1758       2.0       0       NaN         NaN  Under Construction   \n",
       "1920       2.0       2       NaN         NaN      Moderately Old   \n",
       "1958       4.0      3+       NaN  South-West      Relatively New   \n",
       "2106       4.0       1       NaN         NaN      Relatively New   \n",
       "2239       3.0       1       NaN         NaN        Old Property   \n",
       "2533       2.0      3+       NaN         NaN        Old Property   \n",
       "2689       4.0      3+       NaN         NaN        Old Property   \n",
       "2946       1.0      3+       NaN         NaN      Moderately Old   \n",
       "3215       6.0      3+       NaN  South-West      Moderately Old   \n",
       "3380      12.0      3+       NaN        West      Moderately Old   \n",
       "3453       8.0      3+       NaN         NaN      Relatively New   \n",
       "\n",
       "      super_built_up_area  built_up_area  carpet_area  study room  \\\n",
       "10                    NaN         1458.0          NaN           0   \n",
       "33                    NaN         3200.0          NaN           0   \n",
       "398                   NaN            NaN          NaN           0   \n",
       "444                   NaN         1242.0          NaN           0   \n",
       "866                   NaN         3240.0          NaN           0   \n",
       "1149                  NaN         3762.0          NaN           0   \n",
       "1171                  NaN            NaN          NaN           0   \n",
       "1264                  NaN         1845.0          NaN           0   \n",
       "1758                  NaN            NaN          NaN           0   \n",
       "1920                  NaN          585.0          NaN           0   \n",
       "1958                  NaN         5605.0          NaN           0   \n",
       "2106                  NaN         3240.0          NaN           0   \n",
       "2239                  NaN          540.0          NaN           0   \n",
       "2533                  NaN         4320.0          NaN           0   \n",
       "2689                  NaN         3771.0          NaN           0   \n",
       "2946                  NaN         4635.0          NaN           0   \n",
       "3215                  NaN         3240.0          NaN           1   \n",
       "3380                  NaN          232.0          NaN           1   \n",
       "3453                  NaN         2844.0          NaN           1   \n",
       "\n",
       "      servant room  ...  Modular Kitchen  Fridge  Geyser  Microwave  \\\n",
       "10               0  ...                0       0       0          0   \n",
       "33               1  ...                1       0       2          0   \n",
       "398              0  ...                0       0       0          0   \n",
       "444              0  ...                0       0       0          0   \n",
       "866              1  ...                1       0       0          0   \n",
       "1149             1  ...                0       0       0          0   \n",
       "1171             0  ...                0       0       0          0   \n",
       "1264             1  ...                1       0      13          0   \n",
       "1758             0  ...                0       0       0          0   \n",
       "1920             0  ...                1       0       0          0   \n",
       "1958             1  ...                1       0       5          1   \n",
       "2106             0  ...                0       0       0          0   \n",
       "2239             0  ...                0       0       0          0   \n",
       "2533             0  ...                0       0       0          0   \n",
       "2689             0  ...                0       0       0          0   \n",
       "2946             0  ...                0       0       0          0   \n",
       "3215             1  ...                1       0       0          0   \n",
       "3380             1  ...                1       0       0          0   \n",
       "3453             1  ...                1       1       0          1   \n",
       "\n",
       "      Exhaust Fan  Stove  Light  Curtains  Fan  luxury_score  \n",
       "10              0      0      0         0    0           0.0  \n",
       "33              1      0     10         1    6         130.0  \n",
       "398             0      0      0         0    0         150.0  \n",
       "444             0      0      0         0    0           0.0  \n",
       "866             0      0      0         0    0          21.0  \n",
       "1149            0      0      6         0    6          21.0  \n",
       "1171            0      0      0         0    0          49.0  \n",
       "1264            1      0     23         0   15          49.0  \n",
       "1758            0      0      0         0    0          42.0  \n",
       "1920            1      0     10         0    0           7.0  \n",
       "1958            1      1     24         0    6           9.0  \n",
       "2106            1      0      4         0    4         100.0  \n",
       "2239            0      0      0         0    0         133.0  \n",
       "2533            0      0      0         0    0          49.0  \n",
       "2689            0      0      0         0    0          41.0  \n",
       "2946            0      0      0         0    0          29.0  \n",
       "3215            0      0      1         0    1          23.0  \n",
       "3380            1      0     33         0   24           0.0  \n",
       "3453            1      0      0         1    0         141.0  \n",
       "\n",
       "[19 rows x 32 columns]"
      ]
     },
     "execution_count": 320,
     "metadata": {},
     "output_type": "execute_result"
    }
   ],
   "source": [
    "df.iloc[:,8:][df['floorNum'].isnull()]"
   ]
  },
  {
   "cell_type": "code",
   "execution_count": 322,
   "id": "8b64681d-5591-446d-b63d-caf54bbcb1ce",
   "metadata": {},
   "outputs": [
    {
     "data": {
      "text/plain": [
       "count    3661.000000\n",
       "mean        3.196941\n",
       "std         2.762602\n",
       "min         0.000000\n",
       "25%         1.000000\n",
       "50%         2.000000\n",
       "75%         4.000000\n",
       "max        51.000000\n",
       "Name: floorNum, dtype: float64"
      ]
     },
     "execution_count": 322,
     "metadata": {},
     "output_type": "execute_result"
    }
   ],
   "source": [
    "df['floorNum'].describe()"
   ]
  },
  {
   "cell_type": "code",
   "execution_count": 328,
   "id": "e712fdd5-c044-4f2d-8dcf-dae7d4866895",
   "metadata": {},
   "outputs": [
    {
     "data": {
      "text/plain": [
       "<Axes: xlabel='floorNum'>"
      ]
     },
     "execution_count": 328,
     "metadata": {},
     "output_type": "execute_result"
    },
    {
     "data": {
      "image/png": "[encoded data removed]",
      "text/plain": [
       "<Figure size 640x480 with 1 Axes>"
      ]
     },
     "metadata": {},
     "output_type": "display_data"
    }
   ],
   "source": [
    "df['floorNum'].value_counts().sort_index().plot(kind='bar')"
   ]
  },
  {
   "cell_type": "code",
   "execution_count": 330,
   "id": "b865db4f-3f22-44af-9930-8a43329b00b5",
   "metadata": {},
   "outputs": [
    {
     "data": {
      "text/plain": [
       "<Axes: ylabel='floorNum'>"
      ]
     },
     "execution_count": 330,
     "metadata": {},
     "output_type": "execute_result"
    },
    {
     "data": {
      "image/png": "[encoded data removed]",
      "text/plain": [
       "<Figure size 640x480 with 1 Axes>"
      ]
     },
     "metadata": {},
     "output_type": "display_data"
    }
   ],
   "source": [
    "sns.boxplot(df['floorNum'],color='green')"
   ]
  },
  {
   "cell_type": "markdown",
   "id": "28e83cec-3d73-4a0d-bd9c-0d338a784fd5",
   "metadata": {},
   "source": [
    "## 9.facing"
   ]
  },
  {
   "cell_type": "code",
   "execution_count": 338,
   "id": "728b0963-b162-4112-89db-d73c879c9465",
   "metadata": {},
   "outputs": [
    {
     "data": {
      "text/plain": [
       "1048"
      ]
     },
     "execution_count": 338,
     "metadata": {},
     "output_type": "execute_result"
    }
   ],
   "source": [
    "df['facing'].isnull().sum()"
   ]
  },
  {
   "cell_type": "code",
   "execution_count": 340,
   "id": "5d85c6ea-abec-4b0b-bfbf-bc38a9857197",
   "metadata": {},
   "outputs": [],
   "source": [
    "df['facing'].fillna('NA',inplace=True)"
   ]
  },
  {
   "cell_type": "code",
   "execution_count": 354,
   "id": "317fd81f-fb63-48ef-b106-95d84e174f14",
   "metadata": {},
   "outputs": [
    {
     "data": {
      "text/plain": [
       "661           East\n",
       "437     South-West\n",
       "960           West\n",
       "597             NA\n",
       "3241         North\n",
       "806             NA\n",
       "693             NA\n",
       "276             NA\n",
       "1484          East\n",
       "2989         North\n",
       "Name: facing, dtype: object"
      ]
     },
     "execution_count": 354,
     "metadata": {},
     "output_type": "execute_result"
    }
   ],
   "source": [
    "df['facing'].sample(10)"
   ]
  },
  {
   "cell_type": "code",
   "execution_count": 356,
   "id": "f7686702-0c69-404b-b44f-bcd3ae2fe7e5",
   "metadata": {},
   "outputs": [
    {
     "data": {
      "text/plain": [
       "facing\n",
       "NA            1048\n",
       "East           624\n",
       "North-East     623\n",
       "North          387\n",
       "West           249\n",
       "South          230\n",
       "North-West     193\n",
       "South-East     173\n",
       "South-West     153\n",
       "Name: count, dtype: int64"
      ]
     },
     "execution_count": 356,
     "metadata": {},
     "output_type": "execute_result"
    }
   ],
   "source": [
    "df['facing'].value_counts()"
   ]
  },
  {
   "cell_type": "markdown",
   "id": "b7bb8e61-b51d-441b-bc2f-ef75b8b1db7f",
   "metadata": {},
   "source": [
    "## 10.AgePosession"
   ]
  },
  {
   "cell_type": "code",
   "execution_count": 363,
   "id": "8b037905-1563-40cc-821b-e47be13a02ba",
   "metadata": {},
   "outputs": [
    {
     "data": {
      "text/plain": [
       "0"
      ]
     },
     "execution_count": 363,
     "metadata": {},
     "output_type": "execute_result"
    }
   ],
   "source": [
    "df['agePossession'].isnull().sum()"
   ]
  },
  {
   "cell_type": "code",
   "execution_count": 365,
   "id": "6bd1e661-b01e-432b-9c0e-2733efed5671",
   "metadata": {},
   "outputs": [
    {
     "data": {
      "text/plain": [
       "agePossession\n",
       "Relatively New        1646\n",
       "New Property           593\n",
       "Moderately Old         563\n",
       "Undefined              440\n",
       "Old Property           303\n",
       "Under Construction     135\n",
       "Name: count, dtype: int64"
      ]
     },
     "execution_count": 365,
     "metadata": {},
     "output_type": "execute_result"
    }
   ],
   "source": [
    "df['agePossession'].value_counts()"
   ]
  },
  {
   "cell_type": "code",
   "execution_count": 367,
   "id": "27701c70-2f7c-4578-b6d7-5ceb6e73ce3d",
   "metadata": {},
   "outputs": [
    {
     "data": {
      "text/html": [
       "<div>\n",
       "<style scoped>\n",
       "    .dataframe tbody tr th:only-of-type {\n",
       "        vertical-align: middle;\n",
       "    }\n",
       "\n",
       "    .dataframe tbody tr th {\n",
       "        vertical-align: top;\n",
       "    }\n",
       "\n",
       "    .dataframe thead th {\n",
       "        text-align: right;\n",
       "    }\n",
       "</style>\n",
       "<table border=\"1\" class=\"dataframe\">\n",
       "  <thead>\n",
       "    <tr style=\"text-align: right;\">\n",
       "      <th></th>\n",
       "      <th>agePossession</th>\n",
       "      <th>super_built_up_area</th>\n",
       "      <th>built_up_area</th>\n",
       "      <th>carpet_area</th>\n",
       "      <th>study room</th>\n",
       "      <th>servant room</th>\n",
       "      <th>pooja room</th>\n",
       "      <th>store room</th>\n",
       "      <th>others</th>\n",
       "      <th>Sofa</th>\n",
       "      <th>...</th>\n",
       "      <th>Modular Kitchen</th>\n",
       "      <th>Fridge</th>\n",
       "      <th>Geyser</th>\n",
       "      <th>Microwave</th>\n",
       "      <th>Exhaust Fan</th>\n",
       "      <th>Stove</th>\n",
       "      <th>Light</th>\n",
       "      <th>Curtains</th>\n",
       "      <th>Fan</th>\n",
       "      <th>luxury_score</th>\n",
       "    </tr>\n",
       "  </thead>\n",
       "  <tbody>\n",
       "    <tr>\n",
       "      <th>0</th>\n",
       "      <td>New Property</td>\n",
       "      <td>NaN</td>\n",
       "      <td>NaN</td>\n",
       "      <td>NaN</td>\n",
       "      <td>0</td>\n",
       "      <td>0</td>\n",
       "      <td>0</td>\n",
       "      <td>0</td>\n",
       "      <td>0</td>\n",
       "      <td>1</td>\n",
       "      <td>...</td>\n",
       "      <td>0</td>\n",
       "      <td>0</td>\n",
       "      <td>0</td>\n",
       "      <td>1</td>\n",
       "      <td>0</td>\n",
       "      <td>0</td>\n",
       "      <td>1</td>\n",
       "      <td>1</td>\n",
       "      <td>1</td>\n",
       "      <td>80.0</td>\n",
       "    </tr>\n",
       "    <tr>\n",
       "      <th>1</th>\n",
       "      <td>Relatively New</td>\n",
       "      <td>1450.0</td>\n",
       "      <td>NaN</td>\n",
       "      <td>1177.00</td>\n",
       "      <td>0</td>\n",
       "      <td>0</td>\n",
       "      <td>0</td>\n",
       "      <td>0</td>\n",
       "      <td>0</td>\n",
       "      <td>0</td>\n",
       "      <td>...</td>\n",
       "      <td>1</td>\n",
       "      <td>0</td>\n",
       "      <td>2</td>\n",
       "      <td>0</td>\n",
       "      <td>0</td>\n",
       "      <td>1</td>\n",
       "      <td>33</td>\n",
       "      <td>0</td>\n",
       "      <td>5</td>\n",
       "      <td>97.0</td>\n",
       "    </tr>\n",
       "    <tr>\n",
       "      <th>2</th>\n",
       "      <td>New Property</td>\n",
       "      <td>NaN</td>\n",
       "      <td>2160.0</td>\n",
       "      <td>NaN</td>\n",
       "      <td>0</td>\n",
       "      <td>1</td>\n",
       "      <td>1</td>\n",
       "      <td>0</td>\n",
       "      <td>0</td>\n",
       "      <td>0</td>\n",
       "      <td>...</td>\n",
       "      <td>0</td>\n",
       "      <td>0</td>\n",
       "      <td>3</td>\n",
       "      <td>0</td>\n",
       "      <td>0</td>\n",
       "      <td>0</td>\n",
       "      <td>4</td>\n",
       "      <td>0</td>\n",
       "      <td>5</td>\n",
       "      <td>0.0</td>\n",
       "    </tr>\n",
       "    <tr>\n",
       "      <th>3</th>\n",
       "      <td>Relatively New</td>\n",
       "      <td>1276.0</td>\n",
       "      <td>NaN</td>\n",
       "      <td>904.01</td>\n",
       "      <td>0</td>\n",
       "      <td>0</td>\n",
       "      <td>0</td>\n",
       "      <td>0</td>\n",
       "      <td>0</td>\n",
       "      <td>0</td>\n",
       "      <td>...</td>\n",
       "      <td>1</td>\n",
       "      <td>0</td>\n",
       "      <td>0</td>\n",
       "      <td>0</td>\n",
       "      <td>0</td>\n",
       "      <td>1</td>\n",
       "      <td>0</td>\n",
       "      <td>0</td>\n",
       "      <td>0</td>\n",
       "      <td>80.0</td>\n",
       "    </tr>\n",
       "    <tr>\n",
       "      <th>4</th>\n",
       "      <td>Relatively New</td>\n",
       "      <td>2727.0</td>\n",
       "      <td>NaN</td>\n",
       "      <td>NaN</td>\n",
       "      <td>0</td>\n",
       "      <td>1</td>\n",
       "      <td>1</td>\n",
       "      <td>0</td>\n",
       "      <td>0</td>\n",
       "      <td>0</td>\n",
       "      <td>...</td>\n",
       "      <td>0</td>\n",
       "      <td>0</td>\n",
       "      <td>0</td>\n",
       "      <td>0</td>\n",
       "      <td>0</td>\n",
       "      <td>0</td>\n",
       "      <td>0</td>\n",
       "      <td>0</td>\n",
       "      <td>0</td>\n",
       "      <td>88.0</td>\n",
       "    </tr>\n",
       "    <tr>\n",
       "      <th>...</th>\n",
       "      <td>...</td>\n",
       "      <td>...</td>\n",
       "      <td>...</td>\n",
       "      <td>...</td>\n",
       "      <td>...</td>\n",
       "      <td>...</td>\n",
       "      <td>...</td>\n",
       "      <td>...</td>\n",
       "      <td>...</td>\n",
       "      <td>...</td>\n",
       "      <td>...</td>\n",
       "      <td>...</td>\n",
       "      <td>...</td>\n",
       "      <td>...</td>\n",
       "      <td>...</td>\n",
       "      <td>...</td>\n",
       "      <td>...</td>\n",
       "      <td>...</td>\n",
       "      <td>...</td>\n",
       "      <td>...</td>\n",
       "      <td>...</td>\n",
       "    </tr>\n",
       "    <tr>\n",
       "      <th>3676</th>\n",
       "      <td>Old Property</td>\n",
       "      <td>2000.0</td>\n",
       "      <td>1800.0</td>\n",
       "      <td>1600.00</td>\n",
       "      <td>0</td>\n",
       "      <td>0</td>\n",
       "      <td>0</td>\n",
       "      <td>0</td>\n",
       "      <td>1</td>\n",
       "      <td>0</td>\n",
       "      <td>...</td>\n",
       "      <td>1</td>\n",
       "      <td>0</td>\n",
       "      <td>2</td>\n",
       "      <td>0</td>\n",
       "      <td>1</td>\n",
       "      <td>0</td>\n",
       "      <td>11</td>\n",
       "      <td>0</td>\n",
       "      <td>6</td>\n",
       "      <td>NaN</td>\n",
       "    </tr>\n",
       "    <tr>\n",
       "      <th>3677</th>\n",
       "      <td>Moderately Old</td>\n",
       "      <td>NaN</td>\n",
       "      <td>1700.0</td>\n",
       "      <td>NaN</td>\n",
       "      <td>0</td>\n",
       "      <td>0</td>\n",
       "      <td>0</td>\n",
       "      <td>0</td>\n",
       "      <td>0</td>\n",
       "      <td>0</td>\n",
       "      <td>...</td>\n",
       "      <td>0</td>\n",
       "      <td>0</td>\n",
       "      <td>0</td>\n",
       "      <td>0</td>\n",
       "      <td>0</td>\n",
       "      <td>0</td>\n",
       "      <td>0</td>\n",
       "      <td>0</td>\n",
       "      <td>0</td>\n",
       "      <td>NaN</td>\n",
       "    </tr>\n",
       "    <tr>\n",
       "      <th>3678</th>\n",
       "      <td>Relatively New</td>\n",
       "      <td>NaN</td>\n",
       "      <td>NaN</td>\n",
       "      <td>NaN</td>\n",
       "      <td>0</td>\n",
       "      <td>0</td>\n",
       "      <td>0</td>\n",
       "      <td>1</td>\n",
       "      <td>0</td>\n",
       "      <td>0</td>\n",
       "      <td>...</td>\n",
       "      <td>1</td>\n",
       "      <td>0</td>\n",
       "      <td>0</td>\n",
       "      <td>0</td>\n",
       "      <td>1</td>\n",
       "      <td>0</td>\n",
       "      <td>5</td>\n",
       "      <td>1</td>\n",
       "      <td>3</td>\n",
       "      <td>NaN</td>\n",
       "    </tr>\n",
       "    <tr>\n",
       "      <th>3679</th>\n",
       "      <td>Relatively New</td>\n",
       "      <td>1900.0</td>\n",
       "      <td>1600.0</td>\n",
       "      <td>1240.04</td>\n",
       "      <td>0</td>\n",
       "      <td>1</td>\n",
       "      <td>0</td>\n",
       "      <td>0</td>\n",
       "      <td>0</td>\n",
       "      <td>0</td>\n",
       "      <td>...</td>\n",
       "      <td>1</td>\n",
       "      <td>0</td>\n",
       "      <td>3</td>\n",
       "      <td>0</td>\n",
       "      <td>1</td>\n",
       "      <td>0</td>\n",
       "      <td>8</td>\n",
       "      <td>1</td>\n",
       "      <td>10</td>\n",
       "      <td>NaN</td>\n",
       "    </tr>\n",
       "    <tr>\n",
       "      <th>3680</th>\n",
       "      <td>Relatively New</td>\n",
       "      <td>1811.0</td>\n",
       "      <td>NaN</td>\n",
       "      <td>996.30</td>\n",
       "      <td>1</td>\n",
       "      <td>0</td>\n",
       "      <td>0</td>\n",
       "      <td>0</td>\n",
       "      <td>0</td>\n",
       "      <td>0</td>\n",
       "      <td>...</td>\n",
       "      <td>1</td>\n",
       "      <td>0</td>\n",
       "      <td>1</td>\n",
       "      <td>0</td>\n",
       "      <td>1</td>\n",
       "      <td>0</td>\n",
       "      <td>0</td>\n",
       "      <td>0</td>\n",
       "      <td>0</td>\n",
       "      <td>NaN</td>\n",
       "    </tr>\n",
       "  </tbody>\n",
       "</table>\n",
       "<p>3680 rows × 28 columns</p>\n",
       "</div>"
      ],
      "text/plain": [
       "       agePossession  super_built_up_area  built_up_area  carpet_area  \\\n",
       "0       New Property                  NaN            NaN          NaN   \n",
       "1     Relatively New               1450.0            NaN      1177.00   \n",
       "2       New Property                  NaN         2160.0          NaN   \n",
       "3     Relatively New               1276.0            NaN       904.01   \n",
       "4     Relatively New               2727.0            NaN          NaN   \n",
       "...              ...                  ...            ...          ...   \n",
       "3676    Old Property               2000.0         1800.0      1600.00   \n",
       "3677  Moderately Old                  NaN         1700.0          NaN   \n",
       "3678  Relatively New                  NaN            NaN          NaN   \n",
       "3679  Relatively New               1900.0         1600.0      1240.04   \n",
       "3680  Relatively New               1811.0            NaN       996.30   \n",
       "\n",
       "      study room  servant room  pooja room  store room  others  Sofa  ...  \\\n",
       "0              0             0           0           0       0     1  ...   \n",
       "1              0             0           0           0       0     0  ...   \n",
       "2              0             1           1           0       0     0  ...   \n",
       "3              0             0           0           0       0     0  ...   \n",
       "4              0             1           1           0       0     0  ...   \n",
       "...          ...           ...         ...         ...     ...   ...  ...   \n",
       "3676           0             0           0           0       1     0  ...   \n",
       "3677           0             0           0           0       0     0  ...   \n",
       "3678           0             0           0           1       0     0  ...   \n",
       "3679           0             1           0           0       0     0  ...   \n",
       "3680           1             0           0           0       0     0  ...   \n",
       "\n",
       "      Modular Kitchen  Fridge  Geyser  Microwave  Exhaust Fan  Stove  Light  \\\n",
       "0                   0       0       0          1            0      0      1   \n",
       "1                   1       0       2          0            0      1     33   \n",
       "2                   0       0       3          0            0      0      4   \n",
       "3                   1       0       0          0            0      1      0   \n",
       "4                   0       0       0          0            0      0      0   \n",
       "...               ...     ...     ...        ...          ...    ...    ...   \n",
       "3676                1       0       2          0            1      0     11   \n",
       "3677                0       0       0          0            0      0      0   \n",
       "3678                1       0       0          0            1      0      5   \n",
       "3679                1       0       3          0            1      0      8   \n",
       "3680                1       0       1          0            1      0      0   \n",
       "\n",
       "      Curtains  Fan  luxury_score  \n",
       "0            1    1          80.0  \n",
       "1            0    5          97.0  \n",
       "2            0    5           0.0  \n",
       "3            0    0          80.0  \n",
       "4            0    0          88.0  \n",
       "...        ...  ...           ...  \n",
       "3676         0    6           NaN  \n",
       "3677         0    0           NaN  \n",
       "3678         1    3           NaN  \n",
       "3679         1   10           NaN  \n",
       "3680         0    0           NaN  \n",
       "\n",
       "[3680 rows x 28 columns]"
      ]
     },
     "execution_count": 367,
     "metadata": {},
     "output_type": "execute_result"
    }
   ],
   "source": [
    "df.iloc[:,12:]"
   ]
  },
  {
   "cell_type": "markdown",
   "id": "a39437fa-994b-4a65-a41c-ff4bfc6b4399",
   "metadata": {},
   "source": [
    "### 11.Areas"
   ]
  },
  {
   "cell_type": "code",
   "execution_count": 370,
   "id": "f4399899-3bbe-4926-9fff-0eb7c59793c6",
   "metadata": {},
   "outputs": [
    {
     "data": {
      "text/plain": [
       "1804"
      ]
     },
     "execution_count": 370,
     "metadata": {},
     "output_type": "execute_result"
    }
   ],
   "source": [
    "## super built up area\n",
    "df['super_built_up_area'].isnull().sum()\n"
   ]
  },
  {
   "cell_type": "code",
   "execution_count": 372,
   "id": "ca8cb8b4-dd39-4a6c-8bce-585b00baed9e",
   "metadata": {},
   "outputs": [
    {
     "data": {
      "text/plain": [
       "count     1876.000000\n",
       "mean      1924.557862\n",
       "std        764.535501\n",
       "min         89.000000\n",
       "25%       1478.750000\n",
       "50%       1828.000000\n",
       "75%       2215.000000\n",
       "max      10000.000000\n",
       "Name: super_built_up_area, dtype: float64"
      ]
     },
     "execution_count": 372,
     "metadata": {},
     "output_type": "execute_result"
    }
   ],
   "source": [
    "df['super_built_up_area'].describe()\n"
   ]
  },
  {
   "cell_type": "code",
   "execution_count": 374,
   "id": "983afbd5-2cb4-4f83-b73f-f4ce598e8bd1",
   "metadata": {},
   "outputs": [
    {
     "data": {
      "text/plain": [
       "<Axes: xlabel='super_built_up_area', ylabel='Count'>"
      ]
     },
     "execution_count": 374,
     "metadata": {},
     "output_type": "execute_result"
    },
    {
     "data": {
      "image/png": "[encoded data removed]",
      "text/plain": [
       "<Figure size 640x480 with 1 Axes>"
      ]
     },
     "metadata": {},
     "output_type": "display_data"
    }
   ],
   "source": [
    "sns.histplot(df['super_built_up_area'].dropna(), bins=50, color='skyblue', kde=True)\n"
   ]
  },
  {
   "cell_type": "code",
   "execution_count": 376,
   "id": "b76b9a6b-0be3-4cc2-9e16-8f65a1cfd4ed",
   "metadata": {},
   "outputs": [
    {
     "data": {
      "text/plain": [
       "<Axes: ylabel='super_built_up_area'>"
      ]
     },
     "execution_count": 376,
     "metadata": {},
     "output_type": "execute_result"
    },
    {
     "data": {
      "image/png": "[encoded data removed]",
      "text/plain": [
       "<Figure size 640x480 with 1 Axes>"
      ]
     },
     "metadata": {},
     "output_type": "display_data"
    }
   ],
   "source": [
    "sns.boxplot(df['super_built_up_area'].dropna(), color='lightgreen')\n"
   ]
  },
  {
   "cell_type": "code",
   "execution_count": 378,
   "id": "70071517-cbb9-4b0d-a446-45ec28fbb5ef",
   "metadata": {},
   "outputs": [
    {
     "data": {
      "text/plain": [
       "2420"
      ]
     },
     "execution_count": 378,
     "metadata": {},
     "output_type": "execute_result"
    }
   ],
   "source": [
    "# built up area\n",
    "df['built_up_area'].isnull().sum()"
   ]
  },
  {
   "cell_type": "code",
   "execution_count": 380,
   "id": "436b6903-1b5a-4b11-a1f9-9c8ec8b9b0a5",
   "metadata": {},
   "outputs": [
    {
     "data": {
      "text/plain": [
       "count     1260.000000\n",
       "mean      1981.844627\n",
       "std       1347.305556\n",
       "min          2.000000\n",
       "25%       1200.000000\n",
       "50%       1750.000000\n",
       "75%       2430.000000\n",
       "max      13500.000000\n",
       "Name: built_up_area, dtype: float64"
      ]
     },
     "execution_count": 380,
     "metadata": {},
     "output_type": "execute_result"
    }
   ],
   "source": [
    "df['built_up_area'].describe()"
   ]
  },
  {
   "cell_type": "code",
   "execution_count": 382,
   "id": "21fcec7a-eb8a-4ce8-809b-f458795cad9e",
   "metadata": {},
   "outputs": [
    {
     "data": {
      "text/plain": [
       "<Axes: xlabel='built_up_area', ylabel='Count'>"
      ]
     },
     "execution_count": 382,
     "metadata": {},
     "output_type": "execute_result"
    },
    {
     "data": {
      "image/png": "[encoded data removed]",
      "text/plain": [
       "<Figure size 640x480 with 1 Axes>"
      ]
     },
     "metadata": {},
     "output_type": "display_data"
    }
   ],
   "source": [
    "sns.histplot(df['built_up_area'].dropna(), bins=50, color='skyblue', kde=False)\n"
   ]
  },
  {
   "cell_type": "code",
   "execution_count": 384,
   "id": "625ac597-cff6-43c7-9597-4d36b90f61f0",
   "metadata": {},
   "outputs": [
    {
     "data": {
      "text/plain": [
       "<Axes: ylabel='built_up_area'>"
      ]
     },
     "execution_count": 384,
     "metadata": {},
     "output_type": "execute_result"
    },
    {
     "data": {
      "image/png": "[encoded data removed]",
      "text/plain": [
       "<Figure size 640x480 with 1 Axes>"
      ]
     },
     "metadata": {},
     "output_type": "display_data"
    }
   ],
   "source": [
    "sns.boxplot(df['built_up_area'].dropna(), color='lightgreen')\n"
   ]
  },
  {
   "cell_type": "code",
   "execution_count": 386,
   "id": "c66e79f9-fb6c-4e06-9be9-2559fda8ca9b",
   "metadata": {},
   "outputs": [
    {
     "data": {
      "text/plain": [
       "2728"
      ]
     },
     "execution_count": 386,
     "metadata": {},
     "output_type": "execute_result"
    }
   ],
   "source": [
    "# carpet area\n",
    "df['carpet_area'].isnull().sum()"
   ]
  },
  {
   "cell_type": "code",
   "execution_count": 388,
   "id": "4179f400-a07f-487b-84a3-47d0e3cf9232",
   "metadata": {},
   "outputs": [
    {
     "data": {
      "text/plain": [
       "count     952.000000\n",
       "mean     1456.931229\n",
       "std       618.770491\n",
       "min        86.000000\n",
       "25%      1055.750000\n",
       "50%      1400.000000\n",
       "75%      1750.500000\n",
       "max      4900.000000\n",
       "Name: carpet_area, dtype: float64"
      ]
     },
     "execution_count": 388,
     "metadata": {},
     "output_type": "execute_result"
    }
   ],
   "source": [
    "df['carpet_area'].describe()"
   ]
  },
  {
   "cell_type": "code",
   "execution_count": 390,
   "id": "d42c7231-76c0-46a8-8d95-773eb537a60c",
   "metadata": {},
   "outputs": [
    {
     "data": {
      "text/plain": [
       "<Axes: xlabel='carpet_area', ylabel='Count'>"
      ]
     },
     "execution_count": 390,
     "metadata": {},
     "output_type": "execute_result"
    },
    {
     "data": {
      "image/png": "[encoded data removed]",
      "text/plain": [
       "<Figure size 640x480 with 1 Axes>"
      ]
     },
     "metadata": {},
     "output_type": "display_data"
    }
   ],
   "source": [
    "sns.histplot(df['carpet_area'].dropna(), bins=50, color='skyblue', kde=False)\n"
   ]
  },
  {
   "cell_type": "code",
   "execution_count": 392,
   "id": "5964431a-9ac2-4064-b0ef-7811cbbc2b8a",
   "metadata": {},
   "outputs": [
    {
     "data": {
      "text/plain": [
       "<Axes: ylabel='carpet_area'>"
      ]
     },
     "execution_count": 392,
     "metadata": {},
     "output_type": "execute_result"
    },
    {
     "data": {
      "image/png": "[encoded data removed]",
      "text/plain": [
       "<Figure size 640x480 with 1 Axes>"
      ]
     },
     "metadata": {},
     "output_type": "display_data"
    }
   ],
   "source": [
    "sns.boxplot(df['carpet_area'].dropna(), color='lightgreen')\n"
   ]
  },
  {
   "cell_type": "code",
   "execution_count": 400,
   "id": "4d7ef02b-b3a5-4ac6-9d08-535f77301369",
   "metadata": {},
   "outputs": [
    {
     "data": {
      "text/html": [
       "<div>\n",
       "<style scoped>\n",
       "    .dataframe tbody tr th:only-of-type {\n",
       "        vertical-align: middle;\n",
       "    }\n",
       "\n",
       "    .dataframe tbody tr th {\n",
       "        vertical-align: top;\n",
       "    }\n",
       "\n",
       "    .dataframe thead th {\n",
       "        text-align: right;\n",
       "    }\n",
       "</style>\n",
       "<table border=\"1\" class=\"dataframe\">\n",
       "  <thead>\n",
       "    <tr style=\"text-align: right;\">\n",
       "      <th></th>\n",
       "      <th>others</th>\n",
       "      <th>Sofa</th>\n",
       "      <th>TV</th>\n",
       "      <th>Dining Table</th>\n",
       "      <th>AC</th>\n",
       "      <th>Chimney</th>\n",
       "      <th>Bed</th>\n",
       "      <th>Washing Machine</th>\n",
       "      <th>Water Purifier</th>\n",
       "      <th>Wardrobe</th>\n",
       "      <th>Modular Kitchen</th>\n",
       "      <th>Fridge</th>\n",
       "      <th>Geyser</th>\n",
       "      <th>Microwave</th>\n",
       "      <th>Exhaust Fan</th>\n",
       "      <th>Stove</th>\n",
       "      <th>Light</th>\n",
       "      <th>Curtains</th>\n",
       "      <th>Fan</th>\n",
       "      <th>luxury_score</th>\n",
       "    </tr>\n",
       "  </thead>\n",
       "  <tbody>\n",
       "    <tr>\n",
       "      <th>0</th>\n",
       "      <td>0</td>\n",
       "      <td>1</td>\n",
       "      <td>1</td>\n",
       "      <td>0</td>\n",
       "      <td>0</td>\n",
       "      <td>0</td>\n",
       "      <td>1</td>\n",
       "      <td>0</td>\n",
       "      <td>0</td>\n",
       "      <td>0</td>\n",
       "      <td>0</td>\n",
       "      <td>0</td>\n",
       "      <td>0</td>\n",
       "      <td>1</td>\n",
       "      <td>0</td>\n",
       "      <td>0</td>\n",
       "      <td>1</td>\n",
       "      <td>1</td>\n",
       "      <td>1</td>\n",
       "      <td>80.0</td>\n",
       "    </tr>\n",
       "    <tr>\n",
       "      <th>1</th>\n",
       "      <td>0</td>\n",
       "      <td>0</td>\n",
       "      <td>0</td>\n",
       "      <td>0</td>\n",
       "      <td>4</td>\n",
       "      <td>1</td>\n",
       "      <td>0</td>\n",
       "      <td>0</td>\n",
       "      <td>1</td>\n",
       "      <td>10</td>\n",
       "      <td>1</td>\n",
       "      <td>0</td>\n",
       "      <td>2</td>\n",
       "      <td>0</td>\n",
       "      <td>0</td>\n",
       "      <td>1</td>\n",
       "      <td>33</td>\n",
       "      <td>0</td>\n",
       "      <td>5</td>\n",
       "      <td>97.0</td>\n",
       "    </tr>\n",
       "    <tr>\n",
       "      <th>2</th>\n",
       "      <td>0</td>\n",
       "      <td>0</td>\n",
       "      <td>0</td>\n",
       "      <td>0</td>\n",
       "      <td>0</td>\n",
       "      <td>0</td>\n",
       "      <td>0</td>\n",
       "      <td>0</td>\n",
       "      <td>0</td>\n",
       "      <td>4</td>\n",
       "      <td>0</td>\n",
       "      <td>0</td>\n",
       "      <td>3</td>\n",
       "      <td>0</td>\n",
       "      <td>0</td>\n",
       "      <td>0</td>\n",
       "      <td>4</td>\n",
       "      <td>0</td>\n",
       "      <td>5</td>\n",
       "      <td>0.0</td>\n",
       "    </tr>\n",
       "    <tr>\n",
       "      <th>3</th>\n",
       "      <td>0</td>\n",
       "      <td>0</td>\n",
       "      <td>0</td>\n",
       "      <td>0</td>\n",
       "      <td>2</td>\n",
       "      <td>1</td>\n",
       "      <td>0</td>\n",
       "      <td>0</td>\n",
       "      <td>0</td>\n",
       "      <td>0</td>\n",
       "      <td>1</td>\n",
       "      <td>0</td>\n",
       "      <td>0</td>\n",
       "      <td>0</td>\n",
       "      <td>0</td>\n",
       "      <td>1</td>\n",
       "      <td>0</td>\n",
       "      <td>0</td>\n",
       "      <td>0</td>\n",
       "      <td>80.0</td>\n",
       "    </tr>\n",
       "    <tr>\n",
       "      <th>4</th>\n",
       "      <td>0</td>\n",
       "      <td>0</td>\n",
       "      <td>0</td>\n",
       "      <td>0</td>\n",
       "      <td>0</td>\n",
       "      <td>0</td>\n",
       "      <td>0</td>\n",
       "      <td>0</td>\n",
       "      <td>0</td>\n",
       "      <td>0</td>\n",
       "      <td>0</td>\n",
       "      <td>0</td>\n",
       "      <td>0</td>\n",
       "      <td>0</td>\n",
       "      <td>0</td>\n",
       "      <td>0</td>\n",
       "      <td>0</td>\n",
       "      <td>0</td>\n",
       "      <td>0</td>\n",
       "      <td>88.0</td>\n",
       "    </tr>\n",
       "    <tr>\n",
       "      <th>...</th>\n",
       "      <td>...</td>\n",
       "      <td>...</td>\n",
       "      <td>...</td>\n",
       "      <td>...</td>\n",
       "      <td>...</td>\n",
       "      <td>...</td>\n",
       "      <td>...</td>\n",
       "      <td>...</td>\n",
       "      <td>...</td>\n",
       "      <td>...</td>\n",
       "      <td>...</td>\n",
       "      <td>...</td>\n",
       "      <td>...</td>\n",
       "      <td>...</td>\n",
       "      <td>...</td>\n",
       "      <td>...</td>\n",
       "      <td>...</td>\n",
       "      <td>...</td>\n",
       "      <td>...</td>\n",
       "      <td>...</td>\n",
       "    </tr>\n",
       "    <tr>\n",
       "      <th>3676</th>\n",
       "      <td>1</td>\n",
       "      <td>0</td>\n",
       "      <td>0</td>\n",
       "      <td>0</td>\n",
       "      <td>0</td>\n",
       "      <td>1</td>\n",
       "      <td>0</td>\n",
       "      <td>0</td>\n",
       "      <td>0</td>\n",
       "      <td>3</td>\n",
       "      <td>1</td>\n",
       "      <td>0</td>\n",
       "      <td>2</td>\n",
       "      <td>0</td>\n",
       "      <td>1</td>\n",
       "      <td>0</td>\n",
       "      <td>11</td>\n",
       "      <td>0</td>\n",
       "      <td>6</td>\n",
       "      <td>NaN</td>\n",
       "    </tr>\n",
       "    <tr>\n",
       "      <th>3677</th>\n",
       "      <td>0</td>\n",
       "      <td>0</td>\n",
       "      <td>0</td>\n",
       "      <td>0</td>\n",
       "      <td>0</td>\n",
       "      <td>0</td>\n",
       "      <td>0</td>\n",
       "      <td>0</td>\n",
       "      <td>0</td>\n",
       "      <td>0</td>\n",
       "      <td>0</td>\n",
       "      <td>0</td>\n",
       "      <td>0</td>\n",
       "      <td>0</td>\n",
       "      <td>0</td>\n",
       "      <td>0</td>\n",
       "      <td>0</td>\n",
       "      <td>0</td>\n",
       "      <td>0</td>\n",
       "      <td>NaN</td>\n",
       "    </tr>\n",
       "    <tr>\n",
       "      <th>3678</th>\n",
       "      <td>0</td>\n",
       "      <td>0</td>\n",
       "      <td>0</td>\n",
       "      <td>0</td>\n",
       "      <td>0</td>\n",
       "      <td>1</td>\n",
       "      <td>0</td>\n",
       "      <td>0</td>\n",
       "      <td>0</td>\n",
       "      <td>1</td>\n",
       "      <td>1</td>\n",
       "      <td>0</td>\n",
       "      <td>0</td>\n",
       "      <td>0</td>\n",
       "      <td>1</td>\n",
       "      <td>0</td>\n",
       "      <td>5</td>\n",
       "      <td>1</td>\n",
       "      <td>3</td>\n",
       "      <td>NaN</td>\n",
       "    </tr>\n",
       "    <tr>\n",
       "      <th>3679</th>\n",
       "      <td>0</td>\n",
       "      <td>0</td>\n",
       "      <td>0</td>\n",
       "      <td>0</td>\n",
       "      <td>4</td>\n",
       "      <td>1</td>\n",
       "      <td>0</td>\n",
       "      <td>0</td>\n",
       "      <td>0</td>\n",
       "      <td>3</td>\n",
       "      <td>1</td>\n",
       "      <td>0</td>\n",
       "      <td>3</td>\n",
       "      <td>0</td>\n",
       "      <td>1</td>\n",
       "      <td>0</td>\n",
       "      <td>8</td>\n",
       "      <td>1</td>\n",
       "      <td>10</td>\n",
       "      <td>NaN</td>\n",
       "    </tr>\n",
       "    <tr>\n",
       "      <th>3680</th>\n",
       "      <td>0</td>\n",
       "      <td>0</td>\n",
       "      <td>0</td>\n",
       "      <td>0</td>\n",
       "      <td>1</td>\n",
       "      <td>1</td>\n",
       "      <td>0</td>\n",
       "      <td>0</td>\n",
       "      <td>1</td>\n",
       "      <td>1</td>\n",
       "      <td>1</td>\n",
       "      <td>0</td>\n",
       "      <td>1</td>\n",
       "      <td>0</td>\n",
       "      <td>1</td>\n",
       "      <td>0</td>\n",
       "      <td>0</td>\n",
       "      <td>0</td>\n",
       "      <td>0</td>\n",
       "      <td>NaN</td>\n",
       "    </tr>\n",
       "  </tbody>\n",
       "</table>\n",
       "<p>3680 rows × 20 columns</p>\n",
       "</div>"
      ],
      "text/plain": [
       "      others  Sofa  TV  Dining Table  AC  Chimney  Bed  Washing Machine  \\\n",
       "0          0     1   1             0   0        0    1                0   \n",
       "1          0     0   0             0   4        1    0                0   \n",
       "2          0     0   0             0   0        0    0                0   \n",
       "3          0     0   0             0   2        1    0                0   \n",
       "4          0     0   0             0   0        0    0                0   \n",
       "...      ...   ...  ..           ...  ..      ...  ...              ...   \n",
       "3676       1     0   0             0   0        1    0                0   \n",
       "3677       0     0   0             0   0        0    0                0   \n",
       "3678       0     0   0             0   0        1    0                0   \n",
       "3679       0     0   0             0   4        1    0                0   \n",
       "3680       0     0   0             0   1        1    0                0   \n",
       "\n",
       "      Water Purifier  Wardrobe  Modular Kitchen  Fridge  Geyser  Microwave  \\\n",
       "0                  0         0                0       0       0          1   \n",
       "1                  1        10                1       0       2          0   \n",
       "2                  0         4                0       0       3          0   \n",
       "3                  0         0                1       0       0          0   \n",
       "4                  0         0                0       0       0          0   \n",
       "...              ...       ...              ...     ...     ...        ...   \n",
       "3676               0         3                1       0       2          0   \n",
       "3677               0         0                0       0       0          0   \n",
       "3678               0         1                1       0       0          0   \n",
       "3679               0         3                1       0       3          0   \n",
       "3680               1         1                1       0       1          0   \n",
       "\n",
       "      Exhaust Fan  Stove  Light  Curtains  Fan  luxury_score  \n",
       "0               0      0      1         1    1          80.0  \n",
       "1               0      1     33         0    5          97.0  \n",
       "2               0      0      4         0    5           0.0  \n",
       "3               0      1      0         0    0          80.0  \n",
       "4               0      0      0         0    0          88.0  \n",
       "...           ...    ...    ...       ...  ...           ...  \n",
       "3676            1      0     11         0    6           NaN  \n",
       "3677            0      0      0         0    0           NaN  \n",
       "3678            1      0      5         1    3           NaN  \n",
       "3679            1      0      8         1   10           NaN  \n",
       "3680            1      0      0         0    0           NaN  \n",
       "\n",
       "[3680 rows x 20 columns]"
      ]
     },
     "execution_count": 400,
     "metadata": {},
     "output_type": "execute_result"
    }
   ],
   "source": [
    "df.iloc[:,20:]"
   ]
  },
  {
   "cell_type": "code",
   "execution_count": 416,
   "id": "ce8f730a-1feb-4711-885c-4fbde29ea62d",
   "metadata": {},
   "outputs": [],
   "source": [
    "df= df.drop(columns=['Sofa','TV','Dining Table','AC','Chimney','Bed','Washing Machine','Water Purifier','Wardrobe','Modular Kitchen','Fridge',\n",
    "'Geyser','Microwave','Exhaust Fan','Stove','Light','Curtains','Fan'])"
   ]
  },
  {
   "cell_type": "code",
   "execution_count": 418,
   "id": "82a3dca6-99c8-4c4d-9b0e-882cfaa35db8",
   "metadata": {},
   "outputs": [
    {
     "data": {
      "text/html": [
       "<div>\n",
       "<style scoped>\n",
       "    .dataframe tbody tr th:only-of-type {\n",
       "        vertical-align: middle;\n",
       "    }\n",
       "\n",
       "    .dataframe tbody tr th {\n",
       "        vertical-align: top;\n",
       "    }\n",
       "\n",
       "    .dataframe thead th {\n",
       "        text-align: right;\n",
       "    }\n",
       "</style>\n",
       "<table border=\"1\" class=\"dataframe\">\n",
       "  <thead>\n",
       "    <tr style=\"text-align: right;\">\n",
       "      <th></th>\n",
       "      <th>property_type</th>\n",
       "      <th>society</th>\n",
       "      <th>sector</th>\n",
       "      <th>price</th>\n",
       "      <th>price_per_sqft</th>\n",
       "      <th>area</th>\n",
       "      <th>areaWithType</th>\n",
       "      <th>bedRoom</th>\n",
       "      <th>bathroom</th>\n",
       "      <th>balcony</th>\n",
       "      <th>...</th>\n",
       "      <th>agePossession</th>\n",
       "      <th>super_built_up_area</th>\n",
       "      <th>built_up_area</th>\n",
       "      <th>carpet_area</th>\n",
       "      <th>study room</th>\n",
       "      <th>servant room</th>\n",
       "      <th>pooja room</th>\n",
       "      <th>store room</th>\n",
       "      <th>others</th>\n",
       "      <th>luxury_score</th>\n",
       "    </tr>\n",
       "  </thead>\n",
       "  <tbody>\n",
       "    <tr>\n",
       "      <th>0</th>\n",
       "      <td>flat</td>\n",
       "      <td>signature global park</td>\n",
       "      <td>sohna road</td>\n",
       "      <td>0.55</td>\n",
       "      <td>7355.0</td>\n",
       "      <td>748.0</td>\n",
       "      <td>Carpet area: 745 (69.21 sq.m.)</td>\n",
       "      <td>2.0</td>\n",
       "      <td>2.0</td>\n",
       "      <td>3</td>\n",
       "      <td>...</td>\n",
       "      <td>New Property</td>\n",
       "      <td>NaN</td>\n",
       "      <td>NaN</td>\n",
       "      <td>NaN</td>\n",
       "      <td>0</td>\n",
       "      <td>0</td>\n",
       "      <td>0</td>\n",
       "      <td>0</td>\n",
       "      <td>0</td>\n",
       "      <td>80.0</td>\n",
       "    </tr>\n",
       "    <tr>\n",
       "      <th>1</th>\n",
       "      <td>flat</td>\n",
       "      <td>emaar mgf palm hills</td>\n",
       "      <td>sector 77</td>\n",
       "      <td>1.50</td>\n",
       "      <td>12744.0</td>\n",
       "      <td>1177.0</td>\n",
       "      <td>Super Built up area 1450(134.71 sq.m.)Carpet a...</td>\n",
       "      <td>3.0</td>\n",
       "      <td>3.0</td>\n",
       "      <td>3</td>\n",
       "      <td>...</td>\n",
       "      <td>Relatively New</td>\n",
       "      <td>1450.0</td>\n",
       "      <td>NaN</td>\n",
       "      <td>1177.00</td>\n",
       "      <td>0</td>\n",
       "      <td>0</td>\n",
       "      <td>0</td>\n",
       "      <td>0</td>\n",
       "      <td>0</td>\n",
       "      <td>97.0</td>\n",
       "    </tr>\n",
       "    <tr>\n",
       "      <th>2</th>\n",
       "      <td>house</td>\n",
       "      <td>vatika india next</td>\n",
       "      <td>sector 83</td>\n",
       "      <td>1.70</td>\n",
       "      <td>7870.0</td>\n",
       "      <td>2160.0</td>\n",
       "      <td>Plot area 240(200.67 sq.m.)</td>\n",
       "      <td>3.0</td>\n",
       "      <td>3.0</td>\n",
       "      <td>3+</td>\n",
       "      <td>...</td>\n",
       "      <td>New Property</td>\n",
       "      <td>NaN</td>\n",
       "      <td>2160.0</td>\n",
       "      <td>NaN</td>\n",
       "      <td>0</td>\n",
       "      <td>1</td>\n",
       "      <td>1</td>\n",
       "      <td>0</td>\n",
       "      <td>0</td>\n",
       "      <td>0.0</td>\n",
       "    </tr>\n",
       "    <tr>\n",
       "      <th>3</th>\n",
       "      <td>flat</td>\n",
       "      <td>la vida by tata housing</td>\n",
       "      <td>sector 113</td>\n",
       "      <td>1.45</td>\n",
       "      <td>11363.0</td>\n",
       "      <td>1276.0</td>\n",
       "      <td>Super Built up area 1276(118.54 sq.m.)Carpet a...</td>\n",
       "      <td>2.0</td>\n",
       "      <td>2.0</td>\n",
       "      <td>2</td>\n",
       "      <td>...</td>\n",
       "      <td>Relatively New</td>\n",
       "      <td>1276.0</td>\n",
       "      <td>NaN</td>\n",
       "      <td>904.01</td>\n",
       "      <td>0</td>\n",
       "      <td>0</td>\n",
       "      <td>0</td>\n",
       "      <td>0</td>\n",
       "      <td>0</td>\n",
       "      <td>80.0</td>\n",
       "    </tr>\n",
       "    <tr>\n",
       "      <th>4</th>\n",
       "      <td>flat</td>\n",
       "      <td>dlf new town heights</td>\n",
       "      <td>sector 90</td>\n",
       "      <td>1.90</td>\n",
       "      <td>5683.0</td>\n",
       "      <td>3343.0</td>\n",
       "      <td>Super Built up area 2727(253.35 sq.m.)</td>\n",
       "      <td>4.0</td>\n",
       "      <td>4.0</td>\n",
       "      <td>3+</td>\n",
       "      <td>...</td>\n",
       "      <td>Relatively New</td>\n",
       "      <td>2727.0</td>\n",
       "      <td>NaN</td>\n",
       "      <td>NaN</td>\n",
       "      <td>0</td>\n",
       "      <td>1</td>\n",
       "      <td>1</td>\n",
       "      <td>0</td>\n",
       "      <td>0</td>\n",
       "      <td>88.0</td>\n",
       "    </tr>\n",
       "  </tbody>\n",
       "</table>\n",
       "<p>5 rows × 22 columns</p>\n",
       "</div>"
      ],
      "text/plain": [
       "  property_type                  society      sector  price  price_per_sqft  \\\n",
       "0          flat    signature global park  sohna road   0.55          7355.0   \n",
       "1          flat     emaar mgf palm hills   sector 77   1.50         12744.0   \n",
       "2         house        vatika india next   sector 83   1.70          7870.0   \n",
       "3          flat  la vida by tata housing  sector 113   1.45         11363.0   \n",
       "4          flat     dlf new town heights   sector 90   1.90          5683.0   \n",
       "\n",
       "     area                                       areaWithType  bedRoom  \\\n",
       "0   748.0                     Carpet area: 745 (69.21 sq.m.)      2.0   \n",
       "1  1177.0  Super Built up area 1450(134.71 sq.m.)Carpet a...      3.0   \n",
       "2  2160.0                        Plot area 240(200.67 sq.m.)      3.0   \n",
       "3  1276.0  Super Built up area 1276(118.54 sq.m.)Carpet a...      2.0   \n",
       "4  3343.0             Super Built up area 2727(253.35 sq.m.)      4.0   \n",
       "\n",
       "   bathroom balcony  ...   agePossession super_built_up_area built_up_area  \\\n",
       "0       2.0       3  ...    New Property                 NaN           NaN   \n",
       "1       3.0       3  ...  Relatively New              1450.0           NaN   \n",
       "2       3.0      3+  ...    New Property                 NaN        2160.0   \n",
       "3       2.0       2  ...  Relatively New              1276.0           NaN   \n",
       "4       4.0      3+  ...  Relatively New              2727.0           NaN   \n",
       "\n",
       "   carpet_area  study room  servant room  pooja room  store room  others  \\\n",
       "0          NaN           0             0           0           0       0   \n",
       "1      1177.00           0             0           0           0       0   \n",
       "2          NaN           0             1           1           0       0   \n",
       "3       904.01           0             0           0           0       0   \n",
       "4          NaN           0             1           1           0       0   \n",
       "\n",
       "   luxury_score  \n",
       "0          80.0  \n",
       "1          97.0  \n",
       "2           0.0  \n",
       "3          80.0  \n",
       "4          88.0  \n",
       "\n",
       "[5 rows x 22 columns]"
      ]
     },
     "execution_count": 418,
     "metadata": {},
     "output_type": "execute_result"
    }
   ],
   "source": [
    "df.head()"
   ]
  },
  {
   "cell_type": "markdown",
   "id": "4f33797b-9533-49b1-9e53-68ebca0bcc0b",
   "metadata": {},
   "source": [
    "### 12.Additional Rooms"
   ]
  },
  {
   "cell_type": "code",
   "execution_count": 421,
   "id": "dbeece24-3055-4745-9afa-a10e46a5a59f",
   "metadata": {},
   "outputs": [
    {
     "data": {
      "image/png": "[encoded data removed]",
      "text/plain": [
       "<Figure size 2000x1200 with 5 Axes>"
      ]
     },
     "metadata": {},
     "output_type": "display_data"
    }
   ],
   "source": [
    "plt.figure(figsize=(20, 12))\n",
    "\n",
    "# Create a subplot of pie charts for each room type\n",
    "for idx, room in enumerate(['study room','servant room','store room','pooja room','others'], 1):\n",
    "    ax = plt.subplot(2, 3, idx)\n",
    "    df[room].value_counts().plot.pie(autopct='%1.1f%%', startangle=90, ax=ax)\n",
    "    plt.title(f'Distribution of {room.title()}')\n",
    "    plt.ylabel('')\n",
    "\n",
    "plt.tight_layout()\n",
    "plt.show()"
   ]
  },
  {
   "cell_type": "markdown",
   "id": "21a42dd2-f580-42e6-9268-798a54c0fd27",
   "metadata": {},
   "source": [
    "### 13. Luxury score"
   ]
  },
  {
   "cell_type": "code",
   "execution_count": 442,
   "id": "1e28eff1-21a5-4a77-8765-41fa2f45af7a",
   "metadata": {},
   "outputs": [
    {
     "data": {
      "text/plain": [
       "114"
      ]
     },
     "execution_count": 442,
     "metadata": {},
     "output_type": "execute_result"
    }
   ],
   "source": [
    "df['luxury_score'].isnull().sum()"
   ]
  },
  {
   "cell_type": "code",
   "execution_count": 444,
   "id": "12adce20-63f8-4abe-a9da-f3ee3f3e2c6e",
   "metadata": {},
   "outputs": [
    {
     "data": {
      "text/plain": [
       "count    3566.000000\n",
       "mean       71.612451\n",
       "std        53.017022\n",
       "min         0.000000\n",
       "25%        31.000000\n",
       "50%        59.000000\n",
       "75%       110.000000\n",
       "max       174.000000\n",
       "Name: luxury_score, dtype: float64"
      ]
     },
     "execution_count": 444,
     "metadata": {},
     "output_type": "execute_result"
    }
   ],
   "source": [
    "df['luxury_score'].describe()"
   ]
  },
  {
   "cell_type": "code",
   "execution_count": 446,
   "id": "db94067d-93d5-447c-8d89-cffbf94bc340",
   "metadata": {},
   "outputs": [
    {
     "data": {
      "text/plain": [
       "<Axes: xlabel='luxury_score', ylabel='Count'>"
      ]
     },
     "execution_count": 446,
     "metadata": {},
     "output_type": "execute_result"
    },
    {
     "data": {
      "image/png": "[encoded data removed]",
      "text/plain": [
       "<Figure size 640x480 with 1 Axes>"
      ]
     },
     "metadata": {},
     "output_type": "display_data"
    }
   ],
   "source": [
    "sns.histplot(df['luxury_score'], bins=50, color='skyblue', kde=True)"
   ]
  },
  {
   "cell_type": "code",
   "execution_count": 448,
   "id": "39fa46bd-98d5-4aa0-bbd9-594b3e0e367a",
   "metadata": {},
   "outputs": [
    {
     "data": {
      "text/plain": [
       "<Axes: ylabel='luxury_score'>"
      ]
     },
     "execution_count": 448,
     "metadata": {},
     "output_type": "execute_result"
    },
    {
     "data": {
      "image/png": "[encoded data removed]",
      "text/plain": [
       "<Figure size 640x480 with 1 Axes>"
      ]
     },
     "metadata": {},
     "output_type": "display_data"
    }
   ],
   "source": [
    "sns.boxplot(df['luxury_score'], color='lightgreen')"
   ]
  },
  {
   "cell_type": "code",
   "execution_count": null,
   "id": "cb091ff0-5b8a-4f31-bcd7-fbfb13fb8da2",
   "metadata": {},
   "outputs": [],
   "source": []
  }
 ],
 "metadata": {
  "kernelspec": {
   "display_name": "Python 3 (ipykernel)",
   "language": "python",
   "name": "python3"
  },
  "language_info": {
   "codemirror_mode": {
    "name": "ipython",
    "version": 3
   },
   "file_extension": ".py",
   "mimetype": "text/x-python",
   "name": "python",
   "nbconvert_exporter": "python",
   "pygments_lexer": "ipython3",
   "version": "3.12.4"
  }
 },
 "nbformat": 4,
 "nbformat_minor": 5
}
